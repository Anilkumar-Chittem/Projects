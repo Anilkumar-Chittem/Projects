{
 "cells": [
  {
   "cell_type": "code",
   "execution_count": 239,
   "metadata": {},
   "outputs": [],
   "source": [
    "import pandas as pd \n",
    "import numpy as np\n"
   ]
  },
  {
   "cell_type": "code",
   "execution_count": 240,
   "metadata": {},
   "outputs": [
    {
     "data": {
      "text/html": [
       "<div>\n",
       "<style scoped>\n",
       "    .dataframe tbody tr th:only-of-type {\n",
       "        vertical-align: middle;\n",
       "    }\n",
       "\n",
       "    .dataframe tbody tr th {\n",
       "        vertical-align: top;\n",
       "    }\n",
       "\n",
       "    .dataframe thead th {\n",
       "        text-align: right;\n",
       "    }\n",
       "</style>\n",
       "<table border=\"1\" class=\"dataframe\">\n",
       "  <thead>\n",
       "    <tr style=\"text-align: right;\">\n",
       "      <th></th>\n",
       "      <th>Date</th>\n",
       "      <th>AveragePrice</th>\n",
       "      <th>Total Volume</th>\n",
       "      <th>4046</th>\n",
       "      <th>4225</th>\n",
       "      <th>4770</th>\n",
       "      <th>Total Bags</th>\n",
       "      <th>Small Bags</th>\n",
       "      <th>Large Bags</th>\n",
       "      <th>XLarge Bags</th>\n",
       "      <th>type</th>\n",
       "      <th>year</th>\n",
       "      <th>region</th>\n",
       "    </tr>\n",
       "  </thead>\n",
       "  <tbody>\n",
       "    <tr>\n",
       "      <th>0</th>\n",
       "      <td>27-12-2015</td>\n",
       "      <td>1.33</td>\n",
       "      <td>64236.62</td>\n",
       "      <td>1036.74</td>\n",
       "      <td>54454.85</td>\n",
       "      <td>48.16</td>\n",
       "      <td>8696.87</td>\n",
       "      <td>8603.62</td>\n",
       "      <td>93.25</td>\n",
       "      <td>0.00</td>\n",
       "      <td>conventional</td>\n",
       "      <td>2015</td>\n",
       "      <td>Albany</td>\n",
       "    </tr>\n",
       "    <tr>\n",
       "      <th>1</th>\n",
       "      <td>20-12-2015</td>\n",
       "      <td>1.35</td>\n",
       "      <td>54876.98</td>\n",
       "      <td>674.28</td>\n",
       "      <td>44638.81</td>\n",
       "      <td>58.33</td>\n",
       "      <td>9505.56</td>\n",
       "      <td>9408.07</td>\n",
       "      <td>97.49</td>\n",
       "      <td>0.00</td>\n",
       "      <td>conventional</td>\n",
       "      <td>2015</td>\n",
       "      <td>Albany</td>\n",
       "    </tr>\n",
       "    <tr>\n",
       "      <th>2</th>\n",
       "      <td>13-12-2015</td>\n",
       "      <td>0.93</td>\n",
       "      <td>118220.22</td>\n",
       "      <td>794.70</td>\n",
       "      <td>109149.67</td>\n",
       "      <td>130.50</td>\n",
       "      <td>8145.35</td>\n",
       "      <td>8042.21</td>\n",
       "      <td>103.14</td>\n",
       "      <td>0.00</td>\n",
       "      <td>conventional</td>\n",
       "      <td>2015</td>\n",
       "      <td>Albany</td>\n",
       "    </tr>\n",
       "    <tr>\n",
       "      <th>3</th>\n",
       "      <td>06-12-2015</td>\n",
       "      <td>1.08</td>\n",
       "      <td>78992.15</td>\n",
       "      <td>1132.00</td>\n",
       "      <td>71976.41</td>\n",
       "      <td>72.58</td>\n",
       "      <td>5811.16</td>\n",
       "      <td>5677.40</td>\n",
       "      <td>133.76</td>\n",
       "      <td>0.00</td>\n",
       "      <td>conventional</td>\n",
       "      <td>2015</td>\n",
       "      <td>Albany</td>\n",
       "    </tr>\n",
       "    <tr>\n",
       "      <th>4</th>\n",
       "      <td>29-11-2015</td>\n",
       "      <td>1.28</td>\n",
       "      <td>51039.60</td>\n",
       "      <td>941.48</td>\n",
       "      <td>43838.39</td>\n",
       "      <td>75.78</td>\n",
       "      <td>6183.95</td>\n",
       "      <td>5986.26</td>\n",
       "      <td>197.69</td>\n",
       "      <td>0.00</td>\n",
       "      <td>conventional</td>\n",
       "      <td>2015</td>\n",
       "      <td>Albany</td>\n",
       "    </tr>\n",
       "    <tr>\n",
       "      <th>...</th>\n",
       "      <td>...</td>\n",
       "      <td>...</td>\n",
       "      <td>...</td>\n",
       "      <td>...</td>\n",
       "      <td>...</td>\n",
       "      <td>...</td>\n",
       "      <td>...</td>\n",
       "      <td>...</td>\n",
       "      <td>...</td>\n",
       "      <td>...</td>\n",
       "      <td>...</td>\n",
       "      <td>...</td>\n",
       "      <td>...</td>\n",
       "    </tr>\n",
       "    <tr>\n",
       "      <th>10</th>\n",
       "      <td>16-10-2016</td>\n",
       "      <td>1.39</td>\n",
       "      <td>190846.01</td>\n",
       "      <td>57529.11</td>\n",
       "      <td>56366.66</td>\n",
       "      <td>17531.78</td>\n",
       "      <td>59418.46</td>\n",
       "      <td>48823.53</td>\n",
       "      <td>10354.65</td>\n",
       "      <td>240.28</td>\n",
       "      <td>conventional</td>\n",
       "      <td>2016</td>\n",
       "      <td>Charlotte</td>\n",
       "    </tr>\n",
       "    <tr>\n",
       "      <th>11</th>\n",
       "      <td>09-10-2016</td>\n",
       "      <td>1.51</td>\n",
       "      <td>178235.75</td>\n",
       "      <td>43325.87</td>\n",
       "      <td>52189.61</td>\n",
       "      <td>19419.57</td>\n",
       "      <td>63300.70</td>\n",
       "      <td>54704.14</td>\n",
       "      <td>8596.56</td>\n",
       "      <td>0.00</td>\n",
       "      <td>conventional</td>\n",
       "      <td>2016</td>\n",
       "      <td>Charlotte</td>\n",
       "    </tr>\n",
       "    <tr>\n",
       "      <th>12</th>\n",
       "      <td>02-10-2016</td>\n",
       "      <td>1.48</td>\n",
       "      <td>178410.82</td>\n",
       "      <td>46364.75</td>\n",
       "      <td>52893.38</td>\n",
       "      <td>16736.92</td>\n",
       "      <td>62415.77</td>\n",
       "      <td>53332.61</td>\n",
       "      <td>8258.16</td>\n",
       "      <td>825.00</td>\n",
       "      <td>conventional</td>\n",
       "      <td>2016</td>\n",
       "      <td>Charlotte</td>\n",
       "    </tr>\n",
       "    <tr>\n",
       "      <th>13</th>\n",
       "      <td>25-09-2016</td>\n",
       "      <td>1.47</td>\n",
       "      <td>189131.52</td>\n",
       "      <td>54110.79</td>\n",
       "      <td>53593.58</td>\n",
       "      <td>17495.42</td>\n",
       "      <td>63931.73</td>\n",
       "      <td>55653.47</td>\n",
       "      <td>8278.26</td>\n",
       "      <td>0.00</td>\n",
       "      <td>conventional</td>\n",
       "      <td>2016</td>\n",
       "      <td>Charlotte</td>\n",
       "    </tr>\n",
       "    <tr>\n",
       "      <th>14</th>\n",
       "      <td>18-09-2016</td>\n",
       "      <td>1.43</td>\n",
       "      <td>182978.30</td>\n",
       "      <td>43116.41</td>\n",
       "      <td>54193.42</td>\n",
       "      <td>16563.91</td>\n",
       "      <td>69104.56</td>\n",
       "      <td>57456.21</td>\n",
       "      <td>11648.35</td>\n",
       "      <td>0.00</td>\n",
       "      <td>conventional</td>\n",
       "      <td>2016</td>\n",
       "      <td>Charlotte</td>\n",
       "    </tr>\n",
       "  </tbody>\n",
       "</table>\n",
       "<p>1517 rows × 13 columns</p>\n",
       "</div>"
      ],
      "text/plain": [
       "          Date  AveragePrice  Total Volume      4046       4225      4770  \\\n",
       "0   27-12-2015          1.33      64236.62   1036.74   54454.85     48.16   \n",
       "1   20-12-2015          1.35      54876.98    674.28   44638.81     58.33   \n",
       "2   13-12-2015          0.93     118220.22    794.70  109149.67    130.50   \n",
       "3   06-12-2015          1.08      78992.15   1132.00   71976.41     72.58   \n",
       "4   29-11-2015          1.28      51039.60    941.48   43838.39     75.78   \n",
       "..         ...           ...           ...       ...        ...       ...   \n",
       "10  16-10-2016          1.39     190846.01  57529.11   56366.66  17531.78   \n",
       "11  09-10-2016          1.51     178235.75  43325.87   52189.61  19419.57   \n",
       "12  02-10-2016          1.48     178410.82  46364.75   52893.38  16736.92   \n",
       "13  25-09-2016          1.47     189131.52  54110.79   53593.58  17495.42   \n",
       "14  18-09-2016          1.43     182978.30  43116.41   54193.42  16563.91   \n",
       "\n",
       "    Total Bags  Small Bags  Large Bags  XLarge Bags          type  year  \\\n",
       "0      8696.87     8603.62       93.25         0.00  conventional  2015   \n",
       "1      9505.56     9408.07       97.49         0.00  conventional  2015   \n",
       "2      8145.35     8042.21      103.14         0.00  conventional  2015   \n",
       "3      5811.16     5677.40      133.76         0.00  conventional  2015   \n",
       "4      6183.95     5986.26      197.69         0.00  conventional  2015   \n",
       "..         ...         ...         ...          ...           ...   ...   \n",
       "10    59418.46    48823.53    10354.65       240.28  conventional  2016   \n",
       "11    63300.70    54704.14     8596.56         0.00  conventional  2016   \n",
       "12    62415.77    53332.61     8258.16       825.00  conventional  2016   \n",
       "13    63931.73    55653.47     8278.26         0.00  conventional  2016   \n",
       "14    69104.56    57456.21    11648.35         0.00  conventional  2016   \n",
       "\n",
       "       region  \n",
       "0      Albany  \n",
       "1      Albany  \n",
       "2      Albany  \n",
       "3      Albany  \n",
       "4      Albany  \n",
       "..        ...  \n",
       "10  Charlotte  \n",
       "11  Charlotte  \n",
       "12  Charlotte  \n",
       "13  Charlotte  \n",
       "14  Charlotte  \n",
       "\n",
       "[1517 rows x 13 columns]"
      ]
     },
     "execution_count": 240,
     "metadata": {},
     "output_type": "execute_result"
    }
   ],
   "source": [
    "data=pd.read_csv(\"ava.csv\")\n",
    "data"
   ]
  },
  {
   "cell_type": "code",
   "execution_count": 241,
   "metadata": {},
   "outputs": [
    {
     "data": {
      "text/plain": [
       "Date             object\n",
       "AveragePrice    float64\n",
       "Total Volume    float64\n",
       "4046            float64\n",
       "4225            float64\n",
       "4770            float64\n",
       "Total Bags      float64\n",
       "Small Bags      float64\n",
       "Large Bags      float64\n",
       "XLarge Bags     float64\n",
       "type             object\n",
       "year              int64\n",
       "region           object\n",
       "dtype: object"
      ]
     },
     "execution_count": 241,
     "metadata": {},
     "output_type": "execute_result"
    }
   ],
   "source": [
    "data.dtypes"
   ]
  },
  {
   "cell_type": "code",
   "execution_count": 242,
   "metadata": {},
   "outputs": [],
   "source": [
    "import seaborn as sns\n",
    "import matplotlib.pyplot as plt"
   ]
  },
  {
   "cell_type": "code",
   "execution_count": 243,
   "metadata": {},
   "outputs": [
    {
     "data": {
      "text/plain": [
       "<matplotlib.axes._subplots.AxesSubplot at 0x14a187b92b0>"
      ]
     },
     "execution_count": 243,
     "metadata": {},
     "output_type": "execute_result"
    },
    {
     "data": {
      "image/png": "[encoded data removed]",
      "text/plain": [
       "<Figure size 432x288 with 2 Axes>"
      ]
     },
     "metadata": {
      "needs_background": "light"
     },
     "output_type": "display_data"
    }
   ],
   "source": [
    "sns.heatmap(data.isnull())"
   ]
  },
  {
   "cell_type": "code",
   "execution_count": 244,
   "metadata": {},
   "outputs": [
    {
     "data": {
      "text/plain": [
       "Date            0\n",
       "AveragePrice    0\n",
       "Total Volume    0\n",
       "4046            0\n",
       "4225            0\n",
       "4770            0\n",
       "Total Bags      0\n",
       "Small Bags      0\n",
       "Large Bags      0\n",
       "XLarge Bags     0\n",
       "type            0\n",
       "year            0\n",
       "region          0\n",
       "dtype: int64"
      ]
     },
     "execution_count": 244,
     "metadata": {},
     "output_type": "execute_result"
    }
   ],
   "source": [
    "data.isnull().sum()"
   ]
  },
  {
   "cell_type": "code",
   "execution_count": 245,
   "metadata": {},
   "outputs": [],
   "source": [
    "# from this it is clear that we dont have any null values "
   ]
  },
  {
   "cell_type": "code",
   "execution_count": 246,
   "metadata": {},
   "outputs": [
    {
     "data": {
      "text/html": [
       "<div>\n",
       "<style scoped>\n",
       "    .dataframe tbody tr th:only-of-type {\n",
       "        vertical-align: middle;\n",
       "    }\n",
       "\n",
       "    .dataframe tbody tr th {\n",
       "        vertical-align: top;\n",
       "    }\n",
       "\n",
       "    .dataframe thead th {\n",
       "        text-align: right;\n",
       "    }\n",
       "</style>\n",
       "<table border=\"1\" class=\"dataframe\">\n",
       "  <thead>\n",
       "    <tr style=\"text-align: right;\">\n",
       "      <th></th>\n",
       "      <th>AveragePrice</th>\n",
       "      <th>Total Volume</th>\n",
       "      <th>4046</th>\n",
       "      <th>4225</th>\n",
       "      <th>4770</th>\n",
       "      <th>Total Bags</th>\n",
       "      <th>Small Bags</th>\n",
       "      <th>Large Bags</th>\n",
       "      <th>XLarge Bags</th>\n",
       "      <th>year</th>\n",
       "    </tr>\n",
       "  </thead>\n",
       "  <tbody>\n",
       "    <tr>\n",
       "      <th>count</th>\n",
       "      <td>1517.000000</td>\n",
       "      <td>1.517000e+03</td>\n",
       "      <td>1.517000e+03</td>\n",
       "      <td>1.517000e+03</td>\n",
       "      <td>1.517000e+03</td>\n",
       "      <td>1.517000e+03</td>\n",
       "      <td>1.517000e+03</td>\n",
       "      <td>1.517000e+03</td>\n",
       "      <td>1517.000000</td>\n",
       "      <td>1517.000000</td>\n",
       "    </tr>\n",
       "    <tr>\n",
       "      <th>mean</th>\n",
       "      <td>1.074990</td>\n",
       "      <td>1.601879e+06</td>\n",
       "      <td>6.464387e+05</td>\n",
       "      <td>6.114375e+05</td>\n",
       "      <td>5.040550e+04</td>\n",
       "      <td>2.935974e+05</td>\n",
       "      <td>2.487736e+05</td>\n",
       "      <td>4.264205e+04</td>\n",
       "      <td>2181.771074</td>\n",
       "      <td>2015.162821</td>\n",
       "    </tr>\n",
       "    <tr>\n",
       "      <th>std</th>\n",
       "      <td>0.188891</td>\n",
       "      <td>4.433143e+06</td>\n",
       "      <td>1.947614e+06</td>\n",
       "      <td>1.672906e+06</td>\n",
       "      <td>1.377812e+05</td>\n",
       "      <td>7.579765e+05</td>\n",
       "      <td>6.474765e+05</td>\n",
       "      <td>1.182157e+05</td>\n",
       "      <td>7455.712144</td>\n",
       "      <td>0.369324</td>\n",
       "    </tr>\n",
       "    <tr>\n",
       "      <th>min</th>\n",
       "      <td>0.490000</td>\n",
       "      <td>3.875074e+04</td>\n",
       "      <td>4.677200e+02</td>\n",
       "      <td>1.783770e+03</td>\n",
       "      <td>0.000000e+00</td>\n",
       "      <td>3.311770e+03</td>\n",
       "      <td>3.311770e+03</td>\n",
       "      <td>0.000000e+00</td>\n",
       "      <td>0.000000</td>\n",
       "      <td>2015.000000</td>\n",
       "    </tr>\n",
       "    <tr>\n",
       "      <th>25%</th>\n",
       "      <td>0.980000</td>\n",
       "      <td>1.474700e+05</td>\n",
       "      <td>2.040034e+04</td>\n",
       "      <td>4.147606e+04</td>\n",
       "      <td>9.112500e+02</td>\n",
       "      <td>3.620689e+04</td>\n",
       "      <td>2.972722e+04</td>\n",
       "      <td>5.407400e+02</td>\n",
       "      <td>0.000000</td>\n",
       "      <td>2015.000000</td>\n",
       "    </tr>\n",
       "    <tr>\n",
       "      <th>50%</th>\n",
       "      <td>1.080000</td>\n",
       "      <td>4.027919e+05</td>\n",
       "      <td>8.175117e+04</td>\n",
       "      <td>1.186649e+05</td>\n",
       "      <td>7.688170e+03</td>\n",
       "      <td>7.397906e+04</td>\n",
       "      <td>6.237569e+04</td>\n",
       "      <td>5.044350e+03</td>\n",
       "      <td>0.000000</td>\n",
       "      <td>2015.000000</td>\n",
       "    </tr>\n",
       "    <tr>\n",
       "      <th>75%</th>\n",
       "      <td>1.190000</td>\n",
       "      <td>9.819751e+05</td>\n",
       "      <td>3.775785e+05</td>\n",
       "      <td>4.851503e+05</td>\n",
       "      <td>2.916730e+04</td>\n",
       "      <td>1.576097e+05</td>\n",
       "      <td>1.461994e+05</td>\n",
       "      <td>2.926767e+04</td>\n",
       "      <td>401.480000</td>\n",
       "      <td>2015.000000</td>\n",
       "    </tr>\n",
       "    <tr>\n",
       "      <th>max</th>\n",
       "      <td>1.680000</td>\n",
       "      <td>4.465546e+07</td>\n",
       "      <td>1.893304e+07</td>\n",
       "      <td>1.895648e+07</td>\n",
       "      <td>1.381516e+06</td>\n",
       "      <td>6.736304e+06</td>\n",
       "      <td>5.893642e+06</td>\n",
       "      <td>1.121076e+06</td>\n",
       "      <td>108072.790000</td>\n",
       "      <td>2016.000000</td>\n",
       "    </tr>\n",
       "  </tbody>\n",
       "</table>\n",
       "</div>"
      ],
      "text/plain": [
       "       AveragePrice  Total Volume          4046          4225          4770  \\\n",
       "count   1517.000000  1.517000e+03  1.517000e+03  1.517000e+03  1.517000e+03   \n",
       "mean       1.074990  1.601879e+06  6.464387e+05  6.114375e+05  5.040550e+04   \n",
       "std        0.188891  4.433143e+06  1.947614e+06  1.672906e+06  1.377812e+05   \n",
       "min        0.490000  3.875074e+04  4.677200e+02  1.783770e+03  0.000000e+00   \n",
       "25%        0.980000  1.474700e+05  2.040034e+04  4.147606e+04  9.112500e+02   \n",
       "50%        1.080000  4.027919e+05  8.175117e+04  1.186649e+05  7.688170e+03   \n",
       "75%        1.190000  9.819751e+05  3.775785e+05  4.851503e+05  2.916730e+04   \n",
       "max        1.680000  4.465546e+07  1.893304e+07  1.895648e+07  1.381516e+06   \n",
       "\n",
       "         Total Bags    Small Bags    Large Bags    XLarge Bags         year  \n",
       "count  1.517000e+03  1.517000e+03  1.517000e+03    1517.000000  1517.000000  \n",
       "mean   2.935974e+05  2.487736e+05  4.264205e+04    2181.771074  2015.162821  \n",
       "std    7.579765e+05  6.474765e+05  1.182157e+05    7455.712144     0.369324  \n",
       "min    3.311770e+03  3.311770e+03  0.000000e+00       0.000000  2015.000000  \n",
       "25%    3.620689e+04  2.972722e+04  5.407400e+02       0.000000  2015.000000  \n",
       "50%    7.397906e+04  6.237569e+04  5.044350e+03       0.000000  2015.000000  \n",
       "75%    1.576097e+05  1.461994e+05  2.926767e+04     401.480000  2015.000000  \n",
       "max    6.736304e+06  5.893642e+06  1.121076e+06  108072.790000  2016.000000  "
      ]
     },
     "execution_count": 246,
     "metadata": {},
     "output_type": "execute_result"
    }
   ],
   "source": [
    "data.describe()"
   ]
  },
  {
   "cell_type": "code",
   "execution_count": 247,
   "metadata": {},
   "outputs": [
    {
     "data": {
      "text/html": [
       "<div>\n",
       "<style scoped>\n",
       "    .dataframe tbody tr th:only-of-type {\n",
       "        vertical-align: middle;\n",
       "    }\n",
       "\n",
       "    .dataframe tbody tr th {\n",
       "        vertical-align: top;\n",
       "    }\n",
       "\n",
       "    .dataframe thead th {\n",
       "        text-align: right;\n",
       "    }\n",
       "</style>\n",
       "<table border=\"1\" class=\"dataframe\">\n",
       "  <thead>\n",
       "    <tr style=\"text-align: right;\">\n",
       "      <th></th>\n",
       "      <th>Date</th>\n",
       "      <th>AveragePrice</th>\n",
       "      <th>Total Volume</th>\n",
       "      <th>4046</th>\n",
       "      <th>4225</th>\n",
       "      <th>4770</th>\n",
       "      <th>Total Bags</th>\n",
       "      <th>Small Bags</th>\n",
       "      <th>Large Bags</th>\n",
       "      <th>XLarge Bags</th>\n",
       "      <th>type</th>\n",
       "      <th>year</th>\n",
       "      <th>region</th>\n",
       "    </tr>\n",
       "  </thead>\n",
       "  <tbody>\n",
       "    <tr>\n",
       "      <th>0</th>\n",
       "      <td>27-12-2015</td>\n",
       "      <td>1.33</td>\n",
       "      <td>64236.62</td>\n",
       "      <td>1036.74</td>\n",
       "      <td>54454.85</td>\n",
       "      <td>48.16</td>\n",
       "      <td>8696.87</td>\n",
       "      <td>8603.62</td>\n",
       "      <td>93.25</td>\n",
       "      <td>0.0</td>\n",
       "      <td>conventional</td>\n",
       "      <td>2015</td>\n",
       "      <td>Albany</td>\n",
       "    </tr>\n",
       "    <tr>\n",
       "      <th>1</th>\n",
       "      <td>20-12-2015</td>\n",
       "      <td>1.35</td>\n",
       "      <td>54876.98</td>\n",
       "      <td>674.28</td>\n",
       "      <td>44638.81</td>\n",
       "      <td>58.33</td>\n",
       "      <td>9505.56</td>\n",
       "      <td>9408.07</td>\n",
       "      <td>97.49</td>\n",
       "      <td>0.0</td>\n",
       "      <td>conventional</td>\n",
       "      <td>2015</td>\n",
       "      <td>Albany</td>\n",
       "    </tr>\n",
       "    <tr>\n",
       "      <th>2</th>\n",
       "      <td>13-12-2015</td>\n",
       "      <td>0.93</td>\n",
       "      <td>118220.22</td>\n",
       "      <td>794.70</td>\n",
       "      <td>109149.67</td>\n",
       "      <td>130.50</td>\n",
       "      <td>8145.35</td>\n",
       "      <td>8042.21</td>\n",
       "      <td>103.14</td>\n",
       "      <td>0.0</td>\n",
       "      <td>conventional</td>\n",
       "      <td>2015</td>\n",
       "      <td>Albany</td>\n",
       "    </tr>\n",
       "    <tr>\n",
       "      <th>3</th>\n",
       "      <td>06-12-2015</td>\n",
       "      <td>1.08</td>\n",
       "      <td>78992.15</td>\n",
       "      <td>1132.00</td>\n",
       "      <td>71976.41</td>\n",
       "      <td>72.58</td>\n",
       "      <td>5811.16</td>\n",
       "      <td>5677.40</td>\n",
       "      <td>133.76</td>\n",
       "      <td>0.0</td>\n",
       "      <td>conventional</td>\n",
       "      <td>2015</td>\n",
       "      <td>Albany</td>\n",
       "    </tr>\n",
       "    <tr>\n",
       "      <th>4</th>\n",
       "      <td>29-11-2015</td>\n",
       "      <td>1.28</td>\n",
       "      <td>51039.60</td>\n",
       "      <td>941.48</td>\n",
       "      <td>43838.39</td>\n",
       "      <td>75.78</td>\n",
       "      <td>6183.95</td>\n",
       "      <td>5986.26</td>\n",
       "      <td>197.69</td>\n",
       "      <td>0.0</td>\n",
       "      <td>conventional</td>\n",
       "      <td>2015</td>\n",
       "      <td>Albany</td>\n",
       "    </tr>\n",
       "  </tbody>\n",
       "</table>\n",
       "</div>"
      ],
      "text/plain": [
       "         Date  AveragePrice  Total Volume     4046       4225    4770  \\\n",
       "0  27-12-2015          1.33      64236.62  1036.74   54454.85   48.16   \n",
       "1  20-12-2015          1.35      54876.98   674.28   44638.81   58.33   \n",
       "2  13-12-2015          0.93     118220.22   794.70  109149.67  130.50   \n",
       "3  06-12-2015          1.08      78992.15  1132.00   71976.41   72.58   \n",
       "4  29-11-2015          1.28      51039.60   941.48   43838.39   75.78   \n",
       "\n",
       "   Total Bags  Small Bags  Large Bags  XLarge Bags          type  year  region  \n",
       "0     8696.87     8603.62       93.25          0.0  conventional  2015  Albany  \n",
       "1     9505.56     9408.07       97.49          0.0  conventional  2015  Albany  \n",
       "2     8145.35     8042.21      103.14          0.0  conventional  2015  Albany  \n",
       "3     5811.16     5677.40      133.76          0.0  conventional  2015  Albany  \n",
       "4     6183.95     5986.26      197.69          0.0  conventional  2015  Albany  "
      ]
     },
     "execution_count": 247,
     "metadata": {},
     "output_type": "execute_result"
    }
   ],
   "source": [
    "data.head()"
   ]
  },
  {
   "cell_type": "code",
   "execution_count": 248,
   "metadata": {},
   "outputs": [],
   "source": [
    "import seaborn as sns\n",
    "import matplotlib.pyplot as plt\n",
    "from sklearn import preprocessing"
   ]
  },
  {
   "cell_type": "code",
   "execution_count": 249,
   "metadata": {},
   "outputs": [],
   "source": [
    "l=preprocessing.LabelEncoder()"
   ]
  },
  {
   "cell_type": "code",
   "execution_count": 250,
   "metadata": {},
   "outputs": [],
   "source": [
    "typ=['type','region']\n",
    "for i in typ:\n",
    "    data[i]=l.fit_transform(data[i])"
   ]
  },
  {
   "cell_type": "code",
   "execution_count": 251,
   "metadata": {},
   "outputs": [
    {
     "data": {
      "text/html": [
       "<div>\n",
       "<style scoped>\n",
       "    .dataframe tbody tr th:only-of-type {\n",
       "        vertical-align: middle;\n",
       "    }\n",
       "\n",
       "    .dataframe tbody tr th {\n",
       "        vertical-align: top;\n",
       "    }\n",
       "\n",
       "    .dataframe thead th {\n",
       "        text-align: right;\n",
       "    }\n",
       "</style>\n",
       "<table border=\"1\" class=\"dataframe\">\n",
       "  <thead>\n",
       "    <tr style=\"text-align: right;\">\n",
       "      <th></th>\n",
       "      <th>Date</th>\n",
       "      <th>AveragePrice</th>\n",
       "      <th>Total Volume</th>\n",
       "      <th>4046</th>\n",
       "      <th>4225</th>\n",
       "      <th>4770</th>\n",
       "      <th>Total Bags</th>\n",
       "      <th>Small Bags</th>\n",
       "      <th>Large Bags</th>\n",
       "      <th>XLarge Bags</th>\n",
       "      <th>type</th>\n",
       "      <th>year</th>\n",
       "      <th>region</th>\n",
       "    </tr>\n",
       "  </thead>\n",
       "  <tbody>\n",
       "    <tr>\n",
       "      <th>0</th>\n",
       "      <td>27-12-2015</td>\n",
       "      <td>1.33</td>\n",
       "      <td>64236.62</td>\n",
       "      <td>1036.74</td>\n",
       "      <td>54454.85</td>\n",
       "      <td>48.16</td>\n",
       "      <td>8696.87</td>\n",
       "      <td>8603.62</td>\n",
       "      <td>93.25</td>\n",
       "      <td>0.00</td>\n",
       "      <td>0</td>\n",
       "      <td>2015</td>\n",
       "      <td>0</td>\n",
       "    </tr>\n",
       "    <tr>\n",
       "      <th>1</th>\n",
       "      <td>20-12-2015</td>\n",
       "      <td>1.35</td>\n",
       "      <td>54876.98</td>\n",
       "      <td>674.28</td>\n",
       "      <td>44638.81</td>\n",
       "      <td>58.33</td>\n",
       "      <td>9505.56</td>\n",
       "      <td>9408.07</td>\n",
       "      <td>97.49</td>\n",
       "      <td>0.00</td>\n",
       "      <td>0</td>\n",
       "      <td>2015</td>\n",
       "      <td>0</td>\n",
       "    </tr>\n",
       "    <tr>\n",
       "      <th>2</th>\n",
       "      <td>13-12-2015</td>\n",
       "      <td>0.93</td>\n",
       "      <td>118220.22</td>\n",
       "      <td>794.70</td>\n",
       "      <td>109149.67</td>\n",
       "      <td>130.50</td>\n",
       "      <td>8145.35</td>\n",
       "      <td>8042.21</td>\n",
       "      <td>103.14</td>\n",
       "      <td>0.00</td>\n",
       "      <td>0</td>\n",
       "      <td>2015</td>\n",
       "      <td>0</td>\n",
       "    </tr>\n",
       "    <tr>\n",
       "      <th>3</th>\n",
       "      <td>06-12-2015</td>\n",
       "      <td>1.08</td>\n",
       "      <td>78992.15</td>\n",
       "      <td>1132.00</td>\n",
       "      <td>71976.41</td>\n",
       "      <td>72.58</td>\n",
       "      <td>5811.16</td>\n",
       "      <td>5677.40</td>\n",
       "      <td>133.76</td>\n",
       "      <td>0.00</td>\n",
       "      <td>0</td>\n",
       "      <td>2015</td>\n",
       "      <td>0</td>\n",
       "    </tr>\n",
       "    <tr>\n",
       "      <th>4</th>\n",
       "      <td>29-11-2015</td>\n",
       "      <td>1.28</td>\n",
       "      <td>51039.60</td>\n",
       "      <td>941.48</td>\n",
       "      <td>43838.39</td>\n",
       "      <td>75.78</td>\n",
       "      <td>6183.95</td>\n",
       "      <td>5986.26</td>\n",
       "      <td>197.69</td>\n",
       "      <td>0.00</td>\n",
       "      <td>0</td>\n",
       "      <td>2015</td>\n",
       "      <td>0</td>\n",
       "    </tr>\n",
       "    <tr>\n",
       "      <th>...</th>\n",
       "      <td>...</td>\n",
       "      <td>...</td>\n",
       "      <td>...</td>\n",
       "      <td>...</td>\n",
       "      <td>...</td>\n",
       "      <td>...</td>\n",
       "      <td>...</td>\n",
       "      <td>...</td>\n",
       "      <td>...</td>\n",
       "      <td>...</td>\n",
       "      <td>...</td>\n",
       "      <td>...</td>\n",
       "      <td>...</td>\n",
       "    </tr>\n",
       "    <tr>\n",
       "      <th>10</th>\n",
       "      <td>16-10-2016</td>\n",
       "      <td>1.39</td>\n",
       "      <td>190846.01</td>\n",
       "      <td>57529.11</td>\n",
       "      <td>56366.66</td>\n",
       "      <td>17531.78</td>\n",
       "      <td>59418.46</td>\n",
       "      <td>48823.53</td>\n",
       "      <td>10354.65</td>\n",
       "      <td>240.28</td>\n",
       "      <td>0</td>\n",
       "      <td>2016</td>\n",
       "      <td>7</td>\n",
       "    </tr>\n",
       "    <tr>\n",
       "      <th>11</th>\n",
       "      <td>09-10-2016</td>\n",
       "      <td>1.51</td>\n",
       "      <td>178235.75</td>\n",
       "      <td>43325.87</td>\n",
       "      <td>52189.61</td>\n",
       "      <td>19419.57</td>\n",
       "      <td>63300.70</td>\n",
       "      <td>54704.14</td>\n",
       "      <td>8596.56</td>\n",
       "      <td>0.00</td>\n",
       "      <td>0</td>\n",
       "      <td>2016</td>\n",
       "      <td>7</td>\n",
       "    </tr>\n",
       "    <tr>\n",
       "      <th>12</th>\n",
       "      <td>02-10-2016</td>\n",
       "      <td>1.48</td>\n",
       "      <td>178410.82</td>\n",
       "      <td>46364.75</td>\n",
       "      <td>52893.38</td>\n",
       "      <td>16736.92</td>\n",
       "      <td>62415.77</td>\n",
       "      <td>53332.61</td>\n",
       "      <td>8258.16</td>\n",
       "      <td>825.00</td>\n",
       "      <td>0</td>\n",
       "      <td>2016</td>\n",
       "      <td>7</td>\n",
       "    </tr>\n",
       "    <tr>\n",
       "      <th>13</th>\n",
       "      <td>25-09-2016</td>\n",
       "      <td>1.47</td>\n",
       "      <td>189131.52</td>\n",
       "      <td>54110.79</td>\n",
       "      <td>53593.58</td>\n",
       "      <td>17495.42</td>\n",
       "      <td>63931.73</td>\n",
       "      <td>55653.47</td>\n",
       "      <td>8278.26</td>\n",
       "      <td>0.00</td>\n",
       "      <td>0</td>\n",
       "      <td>2016</td>\n",
       "      <td>7</td>\n",
       "    </tr>\n",
       "    <tr>\n",
       "      <th>14</th>\n",
       "      <td>18-09-2016</td>\n",
       "      <td>1.43</td>\n",
       "      <td>182978.30</td>\n",
       "      <td>43116.41</td>\n",
       "      <td>54193.42</td>\n",
       "      <td>16563.91</td>\n",
       "      <td>69104.56</td>\n",
       "      <td>57456.21</td>\n",
       "      <td>11648.35</td>\n",
       "      <td>0.00</td>\n",
       "      <td>0</td>\n",
       "      <td>2016</td>\n",
       "      <td>7</td>\n",
       "    </tr>\n",
       "  </tbody>\n",
       "</table>\n",
       "<p>1517 rows × 13 columns</p>\n",
       "</div>"
      ],
      "text/plain": [
       "          Date  AveragePrice  Total Volume      4046       4225      4770  \\\n",
       "0   27-12-2015          1.33      64236.62   1036.74   54454.85     48.16   \n",
       "1   20-12-2015          1.35      54876.98    674.28   44638.81     58.33   \n",
       "2   13-12-2015          0.93     118220.22    794.70  109149.67    130.50   \n",
       "3   06-12-2015          1.08      78992.15   1132.00   71976.41     72.58   \n",
       "4   29-11-2015          1.28      51039.60    941.48   43838.39     75.78   \n",
       "..         ...           ...           ...       ...        ...       ...   \n",
       "10  16-10-2016          1.39     190846.01  57529.11   56366.66  17531.78   \n",
       "11  09-10-2016          1.51     178235.75  43325.87   52189.61  19419.57   \n",
       "12  02-10-2016          1.48     178410.82  46364.75   52893.38  16736.92   \n",
       "13  25-09-2016          1.47     189131.52  54110.79   53593.58  17495.42   \n",
       "14  18-09-2016          1.43     182978.30  43116.41   54193.42  16563.91   \n",
       "\n",
       "    Total Bags  Small Bags  Large Bags  XLarge Bags  type  year  region  \n",
       "0      8696.87     8603.62       93.25         0.00     0  2015       0  \n",
       "1      9505.56     9408.07       97.49         0.00     0  2015       0  \n",
       "2      8145.35     8042.21      103.14         0.00     0  2015       0  \n",
       "3      5811.16     5677.40      133.76         0.00     0  2015       0  \n",
       "4      6183.95     5986.26      197.69         0.00     0  2015       0  \n",
       "..         ...         ...         ...          ...   ...   ...     ...  \n",
       "10    59418.46    48823.53    10354.65       240.28     0  2016       7  \n",
       "11    63300.70    54704.14     8596.56         0.00     0  2016       7  \n",
       "12    62415.77    53332.61     8258.16       825.00     0  2016       7  \n",
       "13    63931.73    55653.47     8278.26         0.00     0  2016       7  \n",
       "14    69104.56    57456.21    11648.35         0.00     0  2016       7  \n",
       "\n",
       "[1517 rows x 13 columns]"
      ]
     },
     "execution_count": 251,
     "metadata": {},
     "output_type": "execute_result"
    }
   ],
   "source": [
    "data"
   ]
  },
  {
   "cell_type": "code",
   "execution_count": 252,
   "metadata": {},
   "outputs": [
    {
     "data": {
      "text/plain": [
       "<matplotlib.axes._subplots.AxesSubplot at 0x14a17771c10>"
      ]
     },
     "execution_count": 252,
     "metadata": {},
     "output_type": "execute_result"
    },
    {
     "data": {
      "image/png": "[encoded data removed]",
      "text/plain": [
       "<Figure size 1440x360 with 1 Axes>"
      ]
     },
     "metadata": {
      "needs_background": "light"
     },
     "output_type": "display_data"
    }
   ],
   "source": [
    "plt.figure(figsize=(20,5))\n",
    "sns.countplot(hue='type',data=data,x=\"region\")"
   ]
  },
  {
   "cell_type": "code",
   "execution_count": 253,
   "metadata": {},
   "outputs": [],
   "source": [
    "# there are 51 regions where these avacado are sold and are only one type\n",
    "# Region \"6\" has the highest count and the curve is like parabolla , 21 being the least "
   ]
  },
  {
   "cell_type": "code",
   "execution_count": 254,
   "metadata": {},
   "outputs": [
    {
     "data": {
      "text/plain": [
       "<matplotlib.axes._subplots.AxesSubplot at 0x14a188990a0>"
      ]
     },
     "execution_count": 254,
     "metadata": {},
     "output_type": "execute_result"
    },
    {
     "data": {
      "image/png": "[encoded data removed]",
      "text/plain": [
       "<Figure size 432x288 with 1 Axes>"
      ]
     },
     "metadata": {
      "needs_background": "light"
     },
     "output_type": "display_data"
    }
   ],
   "source": [
    "sns.countplot(x='year',data=data)"
   ]
  },
  {
   "cell_type": "code",
   "execution_count": 255,
   "metadata": {
    "scrolled": true
   },
   "outputs": [
    {
     "data": {
      "text/plain": [
       "<matplotlib.axes._subplots.AxesSubplot at 0x14a18a09400>"
      ]
     },
     "execution_count": 255,
     "metadata": {},
     "output_type": "execute_result"
    },
    {
     "data": {
      "image/png": "[encoded data removed]",
      "text/plain": [
       "<Figure size 360x360 with 1 Axes>"
      ]
     },
     "metadata": {
      "needs_background": "light"
     },
     "output_type": "display_data"
    }
   ],
   "source": [
    "plt.figure(figsize=(5,5))\n",
    "sns.lineplot(x='AveragePrice',y='type',data=data)"
   ]
  },
  {
   "cell_type": "code",
   "execution_count": 256,
   "metadata": {},
   "outputs": [],
   "source": [
    "# The max avg price is 1.6 to 1.7 may be \n",
    "# there is only one type which is 0 "
   ]
  },
  {
   "cell_type": "code",
   "execution_count": 257,
   "metadata": {},
   "outputs": [
    {
     "data": {
      "text/plain": [
       "<matplotlib.axes._subplots.AxesSubplot at 0x14a18a7d220>"
      ]
     },
     "execution_count": 257,
     "metadata": {},
     "output_type": "execute_result"
    },
    {
     "data": {
      "image/png": "[encoded data removed]",
      "text/plain": [
       "<Figure size 432x288 with 1 Axes>"
      ]
     },
     "metadata": {
      "needs_background": "light"
     },
     "output_type": "display_data"
    }
   ],
   "source": [
    "sns.lineplot(y=\"AveragePrice\",data=data,x='year')"
   ]
  },
  {
   "cell_type": "code",
   "execution_count": 258,
   "metadata": {},
   "outputs": [],
   "source": [
    "# from the graph it is clear that the average price per unit is increasning with years "
   ]
  },
  {
   "cell_type": "code",
   "execution_count": 259,
   "metadata": {},
   "outputs": [
    {
     "data": {
      "text/plain": [
       "<matplotlib.axes._subplots.AxesSubplot at 0x14a18a34b20>"
      ]
     },
     "execution_count": 259,
     "metadata": {},
     "output_type": "execute_result"
    },
    {
     "data": {
      "image/png": "[encoded data removed]",
      "text/plain": [
       "<Figure size 504x360 with 1 Axes>"
      ]
     },
     "metadata": {
      "needs_background": "light"
     },
     "output_type": "display_data"
    }
   ],
   "source": [
    "plt.figure(figsize=(7,5))\n",
    "sns.lineplot(y='AveragePrice',x='region',data=data)"
   ]
  },
  {
   "cell_type": "code",
   "execution_count": 260,
   "metadata": {},
   "outputs": [],
   "source": [
    "# from the above it its clear that region  1 to 7 and 47 have the highest price and 10 ad 30 have the least price"
   ]
  },
  {
   "cell_type": "code",
   "execution_count": 261,
   "metadata": {},
   "outputs": [
    {
     "data": {
      "text/plain": [
       "<matplotlib.axes._subplots.AxesSubplot at 0x14a188e62e0>"
      ]
     },
     "execution_count": 261,
     "metadata": {},
     "output_type": "execute_result"
    },
    {
     "data": {
      "image/png": "[encoded data removed]",
      "text/plain": [
       "<Figure size 432x288 with 1 Axes>"
      ]
     },
     "metadata": {
      "needs_background": "light"
     },
     "output_type": "display_data"
    }
   ],
   "source": [
    "sns.scatterplot(y=\"AveragePrice\",x='Total Volume',data=data)"
   ]
  },
  {
   "cell_type": "code",
   "execution_count": 262,
   "metadata": {},
   "outputs": [],
   "source": [
    "# most the volume is lying b/w 0 to 1.2 for avg price 1.6 and few other are 1.4 "
   ]
  },
  {
   "cell_type": "code",
   "execution_count": 263,
   "metadata": {},
   "outputs": [
    {
     "data": {
      "text/plain": [
       "<matplotlib.axes._subplots.AxesSubplot at 0x14a18b9a4c0>"
      ]
     },
     "execution_count": 263,
     "metadata": {},
     "output_type": "execute_result"
    },
    {
     "data": {
      "image/png": "[encoded data removed]",
      "text/plain": [
       "<Figure size 432x288 with 1 Axes>"
      ]
     },
     "metadata": {
      "needs_background": "light"
     },
     "output_type": "display_data"
    }
   ],
   "source": [
    "sns.scatterplot(y='AveragePrice',x=\"Total Bags\",data=data)"
   ]
  },
  {
   "cell_type": "code",
   "execution_count": 264,
   "metadata": {},
   "outputs": [],
   "source": [
    "# the total number of bags is ranging up to 3000 and most of them b/w 1000"
   ]
  },
  {
   "cell_type": "code",
   "execution_count": 265,
   "metadata": {},
   "outputs": [],
   "source": [
    "data.drop(\"Date\",axis=1,inplace=True)"
   ]
  },
  {
   "cell_type": "code",
   "execution_count": 266,
   "metadata": {},
   "outputs": [
    {
     "data": {
      "text/html": [
       "<div>\n",
       "<style scoped>\n",
       "    .dataframe tbody tr th:only-of-type {\n",
       "        vertical-align: middle;\n",
       "    }\n",
       "\n",
       "    .dataframe tbody tr th {\n",
       "        vertical-align: top;\n",
       "    }\n",
       "\n",
       "    .dataframe thead th {\n",
       "        text-align: right;\n",
       "    }\n",
       "</style>\n",
       "<table border=\"1\" class=\"dataframe\">\n",
       "  <thead>\n",
       "    <tr style=\"text-align: right;\">\n",
       "      <th></th>\n",
       "      <th>AveragePrice</th>\n",
       "      <th>Total Volume</th>\n",
       "      <th>4046</th>\n",
       "      <th>4225</th>\n",
       "      <th>4770</th>\n",
       "      <th>Total Bags</th>\n",
       "      <th>Small Bags</th>\n",
       "      <th>Large Bags</th>\n",
       "      <th>XLarge Bags</th>\n",
       "      <th>type</th>\n",
       "      <th>year</th>\n",
       "      <th>region</th>\n",
       "    </tr>\n",
       "  </thead>\n",
       "  <tbody>\n",
       "    <tr>\n",
       "      <th>0</th>\n",
       "      <td>1.33</td>\n",
       "      <td>64236.62</td>\n",
       "      <td>1036.74</td>\n",
       "      <td>54454.85</td>\n",
       "      <td>48.16</td>\n",
       "      <td>8696.87</td>\n",
       "      <td>8603.62</td>\n",
       "      <td>93.25</td>\n",
       "      <td>0.0</td>\n",
       "      <td>0</td>\n",
       "      <td>2015</td>\n",
       "      <td>0</td>\n",
       "    </tr>\n",
       "    <tr>\n",
       "      <th>1</th>\n",
       "      <td>1.35</td>\n",
       "      <td>54876.98</td>\n",
       "      <td>674.28</td>\n",
       "      <td>44638.81</td>\n",
       "      <td>58.33</td>\n",
       "      <td>9505.56</td>\n",
       "      <td>9408.07</td>\n",
       "      <td>97.49</td>\n",
       "      <td>0.0</td>\n",
       "      <td>0</td>\n",
       "      <td>2015</td>\n",
       "      <td>0</td>\n",
       "    </tr>\n",
       "    <tr>\n",
       "      <th>2</th>\n",
       "      <td>0.93</td>\n",
       "      <td>118220.22</td>\n",
       "      <td>794.70</td>\n",
       "      <td>109149.67</td>\n",
       "      <td>130.50</td>\n",
       "      <td>8145.35</td>\n",
       "      <td>8042.21</td>\n",
       "      <td>103.14</td>\n",
       "      <td>0.0</td>\n",
       "      <td>0</td>\n",
       "      <td>2015</td>\n",
       "      <td>0</td>\n",
       "    </tr>\n",
       "    <tr>\n",
       "      <th>3</th>\n",
       "      <td>1.08</td>\n",
       "      <td>78992.15</td>\n",
       "      <td>1132.00</td>\n",
       "      <td>71976.41</td>\n",
       "      <td>72.58</td>\n",
       "      <td>5811.16</td>\n",
       "      <td>5677.40</td>\n",
       "      <td>133.76</td>\n",
       "      <td>0.0</td>\n",
       "      <td>0</td>\n",
       "      <td>2015</td>\n",
       "      <td>0</td>\n",
       "    </tr>\n",
       "    <tr>\n",
       "      <th>4</th>\n",
       "      <td>1.28</td>\n",
       "      <td>51039.60</td>\n",
       "      <td>941.48</td>\n",
       "      <td>43838.39</td>\n",
       "      <td>75.78</td>\n",
       "      <td>6183.95</td>\n",
       "      <td>5986.26</td>\n",
       "      <td>197.69</td>\n",
       "      <td>0.0</td>\n",
       "      <td>0</td>\n",
       "      <td>2015</td>\n",
       "      <td>0</td>\n",
       "    </tr>\n",
       "  </tbody>\n",
       "</table>\n",
       "</div>"
      ],
      "text/plain": [
       "   AveragePrice  Total Volume     4046       4225    4770  Total Bags  \\\n",
       "0          1.33      64236.62  1036.74   54454.85   48.16     8696.87   \n",
       "1          1.35      54876.98   674.28   44638.81   58.33     9505.56   \n",
       "2          0.93     118220.22   794.70  109149.67  130.50     8145.35   \n",
       "3          1.08      78992.15  1132.00   71976.41   72.58     5811.16   \n",
       "4          1.28      51039.60   941.48   43838.39   75.78     6183.95   \n",
       "\n",
       "   Small Bags  Large Bags  XLarge Bags  type  year  region  \n",
       "0     8603.62       93.25          0.0     0  2015       0  \n",
       "1     9408.07       97.49          0.0     0  2015       0  \n",
       "2     8042.21      103.14          0.0     0  2015       0  \n",
       "3     5677.40      133.76          0.0     0  2015       0  \n",
       "4     5986.26      197.69          0.0     0  2015       0  "
      ]
     },
     "execution_count": 266,
     "metadata": {},
     "output_type": "execute_result"
    }
   ],
   "source": [
    "data.head()"
   ]
  },
  {
   "cell_type": "code",
   "execution_count": 269,
   "metadata": {},
   "outputs": [
    {
     "name": "stdout",
     "output_type": "stream",
     "text": [
      "(1517, 12)\n",
      "(0, 12)\n"
     ]
    }
   ],
   "source": [
    "# removing outliers \n",
    "from scipy.stats import zscore\n",
    "z_score=abs(zscore(data))\n",
    "print(data.shape)\n",
    "data_final=data.loc[(z_score<3).all(axis=1)]\n",
    "print(data_final.shape)"
   ]
  },
  {
   "cell_type": "code",
   "execution_count": 270,
   "metadata": {},
   "outputs": [
    {
     "data": {
      "text/html": [
       "<div>\n",
       "<style scoped>\n",
       "    .dataframe tbody tr th:only-of-type {\n",
       "        vertical-align: middle;\n",
       "    }\n",
       "\n",
       "    .dataframe tbody tr th {\n",
       "        vertical-align: top;\n",
       "    }\n",
       "\n",
       "    .dataframe thead th {\n",
       "        text-align: right;\n",
       "    }\n",
       "</style>\n",
       "<table border=\"1\" class=\"dataframe\">\n",
       "  <thead>\n",
       "    <tr style=\"text-align: right;\">\n",
       "      <th></th>\n",
       "      <th>AveragePrice</th>\n",
       "      <th>Total Volume</th>\n",
       "      <th>4046</th>\n",
       "      <th>4225</th>\n",
       "      <th>4770</th>\n",
       "      <th>Total Bags</th>\n",
       "      <th>Small Bags</th>\n",
       "      <th>Large Bags</th>\n",
       "      <th>XLarge Bags</th>\n",
       "      <th>type</th>\n",
       "      <th>year</th>\n",
       "      <th>region</th>\n",
       "    </tr>\n",
       "  </thead>\n",
       "  <tbody>\n",
       "    <tr>\n",
       "      <th>0</th>\n",
       "      <td>1.33</td>\n",
       "      <td>64236.62</td>\n",
       "      <td>1036.74</td>\n",
       "      <td>54454.85</td>\n",
       "      <td>48.16</td>\n",
       "      <td>8696.87</td>\n",
       "      <td>8603.62</td>\n",
       "      <td>93.25</td>\n",
       "      <td>0.00</td>\n",
       "      <td>0</td>\n",
       "      <td>2015</td>\n",
       "      <td>0</td>\n",
       "    </tr>\n",
       "    <tr>\n",
       "      <th>1</th>\n",
       "      <td>1.35</td>\n",
       "      <td>54876.98</td>\n",
       "      <td>674.28</td>\n",
       "      <td>44638.81</td>\n",
       "      <td>58.33</td>\n",
       "      <td>9505.56</td>\n",
       "      <td>9408.07</td>\n",
       "      <td>97.49</td>\n",
       "      <td>0.00</td>\n",
       "      <td>0</td>\n",
       "      <td>2015</td>\n",
       "      <td>0</td>\n",
       "    </tr>\n",
       "    <tr>\n",
       "      <th>2</th>\n",
       "      <td>0.93</td>\n",
       "      <td>118220.22</td>\n",
       "      <td>794.70</td>\n",
       "      <td>109149.67</td>\n",
       "      <td>130.50</td>\n",
       "      <td>8145.35</td>\n",
       "      <td>8042.21</td>\n",
       "      <td>103.14</td>\n",
       "      <td>0.00</td>\n",
       "      <td>0</td>\n",
       "      <td>2015</td>\n",
       "      <td>0</td>\n",
       "    </tr>\n",
       "    <tr>\n",
       "      <th>3</th>\n",
       "      <td>1.08</td>\n",
       "      <td>78992.15</td>\n",
       "      <td>1132.00</td>\n",
       "      <td>71976.41</td>\n",
       "      <td>72.58</td>\n",
       "      <td>5811.16</td>\n",
       "      <td>5677.40</td>\n",
       "      <td>133.76</td>\n",
       "      <td>0.00</td>\n",
       "      <td>0</td>\n",
       "      <td>2015</td>\n",
       "      <td>0</td>\n",
       "    </tr>\n",
       "    <tr>\n",
       "      <th>4</th>\n",
       "      <td>1.28</td>\n",
       "      <td>51039.60</td>\n",
       "      <td>941.48</td>\n",
       "      <td>43838.39</td>\n",
       "      <td>75.78</td>\n",
       "      <td>6183.95</td>\n",
       "      <td>5986.26</td>\n",
       "      <td>197.69</td>\n",
       "      <td>0.00</td>\n",
       "      <td>0</td>\n",
       "      <td>2015</td>\n",
       "      <td>0</td>\n",
       "    </tr>\n",
       "    <tr>\n",
       "      <th>...</th>\n",
       "      <td>...</td>\n",
       "      <td>...</td>\n",
       "      <td>...</td>\n",
       "      <td>...</td>\n",
       "      <td>...</td>\n",
       "      <td>...</td>\n",
       "      <td>...</td>\n",
       "      <td>...</td>\n",
       "      <td>...</td>\n",
       "      <td>...</td>\n",
       "      <td>...</td>\n",
       "      <td>...</td>\n",
       "    </tr>\n",
       "    <tr>\n",
       "      <th>10</th>\n",
       "      <td>1.39</td>\n",
       "      <td>190846.01</td>\n",
       "      <td>57529.11</td>\n",
       "      <td>56366.66</td>\n",
       "      <td>17531.78</td>\n",
       "      <td>59418.46</td>\n",
       "      <td>48823.53</td>\n",
       "      <td>10354.65</td>\n",
       "      <td>240.28</td>\n",
       "      <td>0</td>\n",
       "      <td>2016</td>\n",
       "      <td>7</td>\n",
       "    </tr>\n",
       "    <tr>\n",
       "      <th>11</th>\n",
       "      <td>1.51</td>\n",
       "      <td>178235.75</td>\n",
       "      <td>43325.87</td>\n",
       "      <td>52189.61</td>\n",
       "      <td>19419.57</td>\n",
       "      <td>63300.70</td>\n",
       "      <td>54704.14</td>\n",
       "      <td>8596.56</td>\n",
       "      <td>0.00</td>\n",
       "      <td>0</td>\n",
       "      <td>2016</td>\n",
       "      <td>7</td>\n",
       "    </tr>\n",
       "    <tr>\n",
       "      <th>12</th>\n",
       "      <td>1.48</td>\n",
       "      <td>178410.82</td>\n",
       "      <td>46364.75</td>\n",
       "      <td>52893.38</td>\n",
       "      <td>16736.92</td>\n",
       "      <td>62415.77</td>\n",
       "      <td>53332.61</td>\n",
       "      <td>8258.16</td>\n",
       "      <td>825.00</td>\n",
       "      <td>0</td>\n",
       "      <td>2016</td>\n",
       "      <td>7</td>\n",
       "    </tr>\n",
       "    <tr>\n",
       "      <th>13</th>\n",
       "      <td>1.47</td>\n",
       "      <td>189131.52</td>\n",
       "      <td>54110.79</td>\n",
       "      <td>53593.58</td>\n",
       "      <td>17495.42</td>\n",
       "      <td>63931.73</td>\n",
       "      <td>55653.47</td>\n",
       "      <td>8278.26</td>\n",
       "      <td>0.00</td>\n",
       "      <td>0</td>\n",
       "      <td>2016</td>\n",
       "      <td>7</td>\n",
       "    </tr>\n",
       "    <tr>\n",
       "      <th>14</th>\n",
       "      <td>1.43</td>\n",
       "      <td>182978.30</td>\n",
       "      <td>43116.41</td>\n",
       "      <td>54193.42</td>\n",
       "      <td>16563.91</td>\n",
       "      <td>69104.56</td>\n",
       "      <td>57456.21</td>\n",
       "      <td>11648.35</td>\n",
       "      <td>0.00</td>\n",
       "      <td>0</td>\n",
       "      <td>2016</td>\n",
       "      <td>7</td>\n",
       "    </tr>\n",
       "  </tbody>\n",
       "</table>\n",
       "<p>1517 rows × 12 columns</p>\n",
       "</div>"
      ],
      "text/plain": [
       "    AveragePrice  Total Volume      4046       4225      4770  Total Bags  \\\n",
       "0           1.33      64236.62   1036.74   54454.85     48.16     8696.87   \n",
       "1           1.35      54876.98    674.28   44638.81     58.33     9505.56   \n",
       "2           0.93     118220.22    794.70  109149.67    130.50     8145.35   \n",
       "3           1.08      78992.15   1132.00   71976.41     72.58     5811.16   \n",
       "4           1.28      51039.60    941.48   43838.39     75.78     6183.95   \n",
       "..           ...           ...       ...        ...       ...         ...   \n",
       "10          1.39     190846.01  57529.11   56366.66  17531.78    59418.46   \n",
       "11          1.51     178235.75  43325.87   52189.61  19419.57    63300.70   \n",
       "12          1.48     178410.82  46364.75   52893.38  16736.92    62415.77   \n",
       "13          1.47     189131.52  54110.79   53593.58  17495.42    63931.73   \n",
       "14          1.43     182978.30  43116.41   54193.42  16563.91    69104.56   \n",
       "\n",
       "    Small Bags  Large Bags  XLarge Bags  type  year  region  \n",
       "0      8603.62       93.25         0.00     0  2015       0  \n",
       "1      9408.07       97.49         0.00     0  2015       0  \n",
       "2      8042.21      103.14         0.00     0  2015       0  \n",
       "3      5677.40      133.76         0.00     0  2015       0  \n",
       "4      5986.26      197.69         0.00     0  2015       0  \n",
       "..         ...         ...          ...   ...   ...     ...  \n",
       "10    48823.53    10354.65       240.28     0  2016       7  \n",
       "11    54704.14     8596.56         0.00     0  2016       7  \n",
       "12    53332.61     8258.16       825.00     0  2016       7  \n",
       "13    55653.47     8278.26         0.00     0  2016       7  \n",
       "14    57456.21    11648.35         0.00     0  2016       7  \n",
       "\n",
       "[1517 rows x 12 columns]"
      ]
     },
     "execution_count": 270,
     "metadata": {},
     "output_type": "execute_result"
    }
   ],
   "source": [
    "data"
   ]
  },
  {
   "cell_type": "code",
   "execution_count": 271,
   "metadata": {},
   "outputs": [
    {
     "data": {
      "text/plain": [
       "<matplotlib.axes._subplots.AxesSubplot at 0x14a1756dbb0>"
      ]
     },
     "execution_count": 271,
     "metadata": {},
     "output_type": "execute_result"
    },
    {
     "data": {
      "image/png": "[encoded data removed]",
      "text/plain": [
       "<Figure size 432x288 with 2 Axes>"
      ]
     },
     "metadata": {
      "needs_background": "light"
     },
     "output_type": "display_data"
    }
   ],
   "source": [
    "sns.heatmap(data.corr())"
   ]
  },
  {
   "cell_type": "code",
   "execution_count": null,
   "metadata": {},
   "outputs": [],
   "source": [
    "# Totatl volume and total bags are -vely co relataed "
   ]
  },
  {
   "cell_type": "code",
   "execution_count": 272,
   "metadata": {},
   "outputs": [
    {
     "data": {
      "text/plain": [
       "array([[<matplotlib.axes._subplots.AxesSubplot object at 0x0000014A18B9A190>,\n",
       "        <matplotlib.axes._subplots.AxesSubplot object at 0x0000014A19DED580>,\n",
       "        <matplotlib.axes._subplots.AxesSubplot object at 0x0000014A19E17C40>],\n",
       "       [<matplotlib.axes._subplots.AxesSubplot object at 0x0000014A19E4B400>,\n",
       "        <matplotlib.axes._subplots.AxesSubplot object at 0x0000014A19E74B80>,\n",
       "        <matplotlib.axes._subplots.AxesSubplot object at 0x0000014A19EAB280>],\n",
       "       [<matplotlib.axes._subplots.AxesSubplot object at 0x0000014A19EAB370>,\n",
       "        <matplotlib.axes._subplots.AxesSubplot object at 0x0000014A19ED4B50>,\n",
       "        <matplotlib.axes._subplots.AxesSubplot object at 0x0000014A19F34A00>],\n",
       "       [<matplotlib.axes._subplots.AxesSubplot object at 0x0000014A19F691F0>,\n",
       "        <matplotlib.axes._subplots.AxesSubplot object at 0x0000014A19F93940>,\n",
       "        <matplotlib.axes._subplots.AxesSubplot object at 0x0000014A19FBA160>]],\n",
       "      dtype=object)"
      ]
     },
     "execution_count": 272,
     "metadata": {},
     "output_type": "execute_result"
    },
    {
     "data": {
      "image/png": "[encoded data removed]",
      "text/plain": [
       "<Figure size 720x720 with 12 Axes>"
      ]
     },
     "metadata": {
      "needs_background": "light"
     },
     "output_type": "display_data"
    }
   ],
   "source": [
    "\n",
    "data.hist(figsize=(10,10))"
   ]
  },
  {
   "cell_type": "code",
   "execution_count": 273,
   "metadata": {},
   "outputs": [],
   "source": [
    "# from the above all are rightly skewed and we need can drop type\n",
    "data.drop('type',axis=1,inplace=True)"
   ]
  },
  {
   "cell_type": "code",
   "execution_count": 274,
   "metadata": {},
   "outputs": [
    {
     "data": {
      "text/plain": [
       "AveragePrice   -0.109444\n",
       "Total Volume    6.200138\n",
       "4046            6.051830\n",
       "4225            6.394926\n",
       "4770            5.405164\n",
       "Total Bags      5.366378\n",
       "Small Bags      5.355185\n",
       "Large Bags      5.144495\n",
       "XLarge Bags     5.775077\n",
       "year            1.828332\n",
       "region          0.288146\n",
       "dtype: float64"
      ]
     },
     "execution_count": 274,
     "metadata": {},
     "output_type": "execute_result"
    }
   ],
   "source": [
    "data.skew()"
   ]
  },
  {
   "cell_type": "code",
   "execution_count": 275,
   "metadata": {},
   "outputs": [],
   "source": [
    "j=np.sqrt(data)\n"
   ]
  },
  {
   "cell_type": "code",
   "execution_count": null,
   "metadata": {},
   "outputs": [],
   "source": [
    "j.skew()"
   ]
  },
  {
   "cell_type": "code",
   "execution_count": null,
   "metadata": {},
   "outputs": [],
   "source": [
    "data=j"
   ]
  },
  {
   "cell_type": "code",
   "execution_count": 276,
   "metadata": {},
   "outputs": [
    {
     "data": {
      "text/html": [
       "<div>\n",
       "<style scoped>\n",
       "    .dataframe tbody tr th:only-of-type {\n",
       "        vertical-align: middle;\n",
       "    }\n",
       "\n",
       "    .dataframe tbody tr th {\n",
       "        vertical-align: top;\n",
       "    }\n",
       "\n",
       "    .dataframe thead th {\n",
       "        text-align: right;\n",
       "    }\n",
       "</style>\n",
       "<table border=\"1\" class=\"dataframe\">\n",
       "  <thead>\n",
       "    <tr style=\"text-align: right;\">\n",
       "      <th></th>\n",
       "      <th>AveragePrice</th>\n",
       "      <th>Total Volume</th>\n",
       "      <th>4046</th>\n",
       "      <th>4225</th>\n",
       "      <th>4770</th>\n",
       "      <th>Total Bags</th>\n",
       "      <th>Small Bags</th>\n",
       "      <th>Large Bags</th>\n",
       "      <th>XLarge Bags</th>\n",
       "      <th>year</th>\n",
       "      <th>region</th>\n",
       "    </tr>\n",
       "  </thead>\n",
       "  <tbody>\n",
       "    <tr>\n",
       "      <th>0</th>\n",
       "      <td>1.33</td>\n",
       "      <td>64236.62</td>\n",
       "      <td>1036.74</td>\n",
       "      <td>54454.85</td>\n",
       "      <td>48.16</td>\n",
       "      <td>8696.87</td>\n",
       "      <td>8603.62</td>\n",
       "      <td>93.25</td>\n",
       "      <td>0.00</td>\n",
       "      <td>2015</td>\n",
       "      <td>0</td>\n",
       "    </tr>\n",
       "    <tr>\n",
       "      <th>1</th>\n",
       "      <td>1.35</td>\n",
       "      <td>54876.98</td>\n",
       "      <td>674.28</td>\n",
       "      <td>44638.81</td>\n",
       "      <td>58.33</td>\n",
       "      <td>9505.56</td>\n",
       "      <td>9408.07</td>\n",
       "      <td>97.49</td>\n",
       "      <td>0.00</td>\n",
       "      <td>2015</td>\n",
       "      <td>0</td>\n",
       "    </tr>\n",
       "    <tr>\n",
       "      <th>2</th>\n",
       "      <td>0.93</td>\n",
       "      <td>118220.22</td>\n",
       "      <td>794.70</td>\n",
       "      <td>109149.67</td>\n",
       "      <td>130.50</td>\n",
       "      <td>8145.35</td>\n",
       "      <td>8042.21</td>\n",
       "      <td>103.14</td>\n",
       "      <td>0.00</td>\n",
       "      <td>2015</td>\n",
       "      <td>0</td>\n",
       "    </tr>\n",
       "    <tr>\n",
       "      <th>3</th>\n",
       "      <td>1.08</td>\n",
       "      <td>78992.15</td>\n",
       "      <td>1132.00</td>\n",
       "      <td>71976.41</td>\n",
       "      <td>72.58</td>\n",
       "      <td>5811.16</td>\n",
       "      <td>5677.40</td>\n",
       "      <td>133.76</td>\n",
       "      <td>0.00</td>\n",
       "      <td>2015</td>\n",
       "      <td>0</td>\n",
       "    </tr>\n",
       "    <tr>\n",
       "      <th>4</th>\n",
       "      <td>1.28</td>\n",
       "      <td>51039.60</td>\n",
       "      <td>941.48</td>\n",
       "      <td>43838.39</td>\n",
       "      <td>75.78</td>\n",
       "      <td>6183.95</td>\n",
       "      <td>5986.26</td>\n",
       "      <td>197.69</td>\n",
       "      <td>0.00</td>\n",
       "      <td>2015</td>\n",
       "      <td>0</td>\n",
       "    </tr>\n",
       "    <tr>\n",
       "      <th>...</th>\n",
       "      <td>...</td>\n",
       "      <td>...</td>\n",
       "      <td>...</td>\n",
       "      <td>...</td>\n",
       "      <td>...</td>\n",
       "      <td>...</td>\n",
       "      <td>...</td>\n",
       "      <td>...</td>\n",
       "      <td>...</td>\n",
       "      <td>...</td>\n",
       "      <td>...</td>\n",
       "    </tr>\n",
       "    <tr>\n",
       "      <th>10</th>\n",
       "      <td>1.39</td>\n",
       "      <td>190846.01</td>\n",
       "      <td>57529.11</td>\n",
       "      <td>56366.66</td>\n",
       "      <td>17531.78</td>\n",
       "      <td>59418.46</td>\n",
       "      <td>48823.53</td>\n",
       "      <td>10354.65</td>\n",
       "      <td>240.28</td>\n",
       "      <td>2016</td>\n",
       "      <td>7</td>\n",
       "    </tr>\n",
       "    <tr>\n",
       "      <th>11</th>\n",
       "      <td>1.51</td>\n",
       "      <td>178235.75</td>\n",
       "      <td>43325.87</td>\n",
       "      <td>52189.61</td>\n",
       "      <td>19419.57</td>\n",
       "      <td>63300.70</td>\n",
       "      <td>54704.14</td>\n",
       "      <td>8596.56</td>\n",
       "      <td>0.00</td>\n",
       "      <td>2016</td>\n",
       "      <td>7</td>\n",
       "    </tr>\n",
       "    <tr>\n",
       "      <th>12</th>\n",
       "      <td>1.48</td>\n",
       "      <td>178410.82</td>\n",
       "      <td>46364.75</td>\n",
       "      <td>52893.38</td>\n",
       "      <td>16736.92</td>\n",
       "      <td>62415.77</td>\n",
       "      <td>53332.61</td>\n",
       "      <td>8258.16</td>\n",
       "      <td>825.00</td>\n",
       "      <td>2016</td>\n",
       "      <td>7</td>\n",
       "    </tr>\n",
       "    <tr>\n",
       "      <th>13</th>\n",
       "      <td>1.47</td>\n",
       "      <td>189131.52</td>\n",
       "      <td>54110.79</td>\n",
       "      <td>53593.58</td>\n",
       "      <td>17495.42</td>\n",
       "      <td>63931.73</td>\n",
       "      <td>55653.47</td>\n",
       "      <td>8278.26</td>\n",
       "      <td>0.00</td>\n",
       "      <td>2016</td>\n",
       "      <td>7</td>\n",
       "    </tr>\n",
       "    <tr>\n",
       "      <th>14</th>\n",
       "      <td>1.43</td>\n",
       "      <td>182978.30</td>\n",
       "      <td>43116.41</td>\n",
       "      <td>54193.42</td>\n",
       "      <td>16563.91</td>\n",
       "      <td>69104.56</td>\n",
       "      <td>57456.21</td>\n",
       "      <td>11648.35</td>\n",
       "      <td>0.00</td>\n",
       "      <td>2016</td>\n",
       "      <td>7</td>\n",
       "    </tr>\n",
       "  </tbody>\n",
       "</table>\n",
       "<p>1517 rows × 11 columns</p>\n",
       "</div>"
      ],
      "text/plain": [
       "    AveragePrice  Total Volume      4046       4225      4770  Total Bags  \\\n",
       "0           1.33      64236.62   1036.74   54454.85     48.16     8696.87   \n",
       "1           1.35      54876.98    674.28   44638.81     58.33     9505.56   \n",
       "2           0.93     118220.22    794.70  109149.67    130.50     8145.35   \n",
       "3           1.08      78992.15   1132.00   71976.41     72.58     5811.16   \n",
       "4           1.28      51039.60    941.48   43838.39     75.78     6183.95   \n",
       "..           ...           ...       ...        ...       ...         ...   \n",
       "10          1.39     190846.01  57529.11   56366.66  17531.78    59418.46   \n",
       "11          1.51     178235.75  43325.87   52189.61  19419.57    63300.70   \n",
       "12          1.48     178410.82  46364.75   52893.38  16736.92    62415.77   \n",
       "13          1.47     189131.52  54110.79   53593.58  17495.42    63931.73   \n",
       "14          1.43     182978.30  43116.41   54193.42  16563.91    69104.56   \n",
       "\n",
       "    Small Bags  Large Bags  XLarge Bags  year  region  \n",
       "0      8603.62       93.25         0.00  2015       0  \n",
       "1      9408.07       97.49         0.00  2015       0  \n",
       "2      8042.21      103.14         0.00  2015       0  \n",
       "3      5677.40      133.76         0.00  2015       0  \n",
       "4      5986.26      197.69         0.00  2015       0  \n",
       "..         ...         ...          ...   ...     ...  \n",
       "10    48823.53    10354.65       240.28  2016       7  \n",
       "11    54704.14     8596.56         0.00  2016       7  \n",
       "12    53332.61     8258.16       825.00  2016       7  \n",
       "13    55653.47     8278.26         0.00  2016       7  \n",
       "14    57456.21    11648.35         0.00  2016       7  \n",
       "\n",
       "[1517 rows x 11 columns]"
      ]
     },
     "execution_count": 276,
     "metadata": {},
     "output_type": "execute_result"
    }
   ],
   "source": [
    "data"
   ]
  },
  {
   "cell_type": "code",
   "execution_count": 277,
   "metadata": {},
   "outputs": [
    {
     "data": {
      "text/plain": [
       "AveragePrice   -0.109444\n",
       "Total Volume    6.200138\n",
       "4046            6.051830\n",
       "4225            6.394926\n",
       "4770            5.405164\n",
       "Total Bags      5.366378\n",
       "Small Bags      5.355185\n",
       "Large Bags      5.144495\n",
       "XLarge Bags     5.775077\n",
       "year            1.828332\n",
       "region          0.288146\n",
       "dtype: float64"
      ]
     },
     "execution_count": 277,
     "metadata": {},
     "output_type": "execute_result"
    }
   ],
   "source": [
    "# this is the skewed data \n",
    "data.skew()"
   ]
  },
  {
   "cell_type": "code",
   "execution_count": 278,
   "metadata": {},
   "outputs": [],
   "source": [
    "i=np.sqrt(data)"
   ]
  },
  {
   "cell_type": "code",
   "execution_count": 279,
   "metadata": {},
   "outputs": [
    {
     "name": "stdout",
     "output_type": "stream",
     "text": [
      "AveragePrice   -0.460428\n",
      "Total Volume    3.129360\n",
      "4046            2.883385\n",
      "4225            2.891611\n",
      "4770            2.531303\n",
      "Total Bags      2.951677\n",
      "Small Bags      2.956167\n",
      "Large Bags      2.517165\n",
      "XLarge Bags     2.916661\n",
      "year            1.828332\n",
      "region         -0.273328\n",
      "dtype: float64\n",
      "AveragePrice   -0.460428\n",
      "Total Volume    3.129360\n",
      "4046            2.883385\n",
      "4225            2.891611\n",
      "4770            2.531303\n",
      "Total Bags      2.951677\n",
      "Small Bags      2.956167\n",
      "Large Bags      2.517165\n",
      "XLarge Bags     2.916661\n",
      "year            1.828332\n",
      "region         -0.273328\n",
      "dtype: float64\n",
      "AveragePrice   -0.460428\n",
      "Total Volume    3.129360\n",
      "4046            2.883385\n",
      "4225            2.891611\n",
      "4770            2.531303\n",
      "Total Bags      2.951677\n",
      "Small Bags      2.956167\n",
      "Large Bags      2.517165\n",
      "XLarge Bags     2.916661\n",
      "year            1.828332\n",
      "region         -0.273328\n",
      "dtype: float64\n"
     ]
    }
   ],
   "source": [
    "for i in range(0,3):\n",
    "    data_skew=np.sqrt(data)\n",
    "    i=np.sqrt(data_skew)\n",
    "    print(data_skew.skew())\n"
   ]
  },
  {
   "cell_type": "code",
   "execution_count": 280,
   "metadata": {},
   "outputs": [
    {
     "data": {
      "text/plain": [
       "AveragePrice   -0.460428\n",
       "Total Volume    3.129360\n",
       "4046            2.883385\n",
       "4225            2.891611\n",
       "4770            2.531303\n",
       "Total Bags      2.951677\n",
       "Small Bags      2.956167\n",
       "Large Bags      2.517165\n",
       "XLarge Bags     2.916661\n",
       "year            1.828332\n",
       "region         -0.273328\n",
       "dtype: float64"
      ]
     },
     "execution_count": 280,
     "metadata": {},
     "output_type": "execute_result"
    }
   ],
   "source": [
    "# this is the skewd data \n",
    "data_skew.skew()"
   ]
  },
  {
   "cell_type": "code",
   "execution_count": 281,
   "metadata": {},
   "outputs": [],
   "source": [
    "\n",
    "import sklearn\n",
    "from sklearn.preprocessing import StandardScaler\n",
    "sc=StandardScaler()\n",
    "da_x=data_skew.drop(columns='AveragePrice',axis=1)\n",
    "y1=sc.fit_transform(data_skew[['AveragePrice']])\n",
    "x=sc.fit_transform(da_x)\n",
    "x=pd.DataFrame(x,columns=da_x.columns)\n"
   ]
  },
  {
   "cell_type": "code",
   "execution_count": 282,
   "metadata": {},
   "outputs": [
    {
     "data": {
      "text/html": [
       "<div>\n",
       "<style scoped>\n",
       "    .dataframe tbody tr th:only-of-type {\n",
       "        vertical-align: middle;\n",
       "    }\n",
       "\n",
       "    .dataframe tbody tr th {\n",
       "        vertical-align: top;\n",
       "    }\n",
       "\n",
       "    .dataframe thead th {\n",
       "        text-align: right;\n",
       "    }\n",
       "</style>\n",
       "<table border=\"1\" class=\"dataframe\">\n",
       "  <thead>\n",
       "    <tr style=\"text-align: right;\">\n",
       "      <th></th>\n",
       "      <th>Total Volume</th>\n",
       "      <th>4046</th>\n",
       "      <th>4225</th>\n",
       "      <th>4770</th>\n",
       "      <th>Total Bags</th>\n",
       "      <th>Small Bags</th>\n",
       "      <th>Large Bags</th>\n",
       "      <th>XLarge Bags</th>\n",
       "      <th>year</th>\n",
       "      <th>region</th>\n",
       "    </tr>\n",
       "  </thead>\n",
       "  <tbody>\n",
       "    <tr>\n",
       "      <th>0</th>\n",
       "      <td>-0.733064</td>\n",
       "      <td>-0.754854</td>\n",
       "      <td>-0.566874</td>\n",
       "      <td>-0.785170</td>\n",
       "      <td>-0.797193</td>\n",
       "      <td>-0.767310</td>\n",
       "      <td>-0.728504</td>\n",
       "      <td>-0.484445</td>\n",
       "      <td>-0.441008</td>\n",
       "      <td>-2.028672</td>\n",
       "    </tr>\n",
       "    <tr>\n",
       "      <th>1</th>\n",
       "      <td>-0.754712</td>\n",
       "      <td>-0.764810</td>\n",
       "      <td>-0.606522</td>\n",
       "      <td>-0.781141</td>\n",
       "      <td>-0.785869</td>\n",
       "      <td>-0.755078</td>\n",
       "      <td>-0.727165</td>\n",
       "      <td>-0.484445</td>\n",
       "      <td>-0.441008</td>\n",
       "      <td>-2.028672</td>\n",
       "    </tr>\n",
       "    <tr>\n",
       "      <th>2</th>\n",
       "      <td>-0.631111</td>\n",
       "      <td>-0.761258</td>\n",
       "      <td>-0.392628</td>\n",
       "      <td>-0.759276</td>\n",
       "      <td>-0.805221</td>\n",
       "      <td>-0.776190</td>\n",
       "      <td>-0.725426</td>\n",
       "      <td>-0.484445</td>\n",
       "      <td>-0.441008</td>\n",
       "      <td>-2.028672</td>\n",
       "    </tr>\n",
       "    <tr>\n",
       "      <th>3</th>\n",
       "      <td>-0.701924</td>\n",
       "      <td>-0.752543</td>\n",
       "      <td>-0.504144</td>\n",
       "      <td>-0.776048</td>\n",
       "      <td>-0.842671</td>\n",
       "      <td>-0.817536</td>\n",
       "      <td>-0.716734</td>\n",
       "      <td>-0.484445</td>\n",
       "      <td>-0.441008</td>\n",
       "      <td>-2.028672</td>\n",
       "    </tr>\n",
       "    <tr>\n",
       "      <th>4</th>\n",
       "      <td>-0.764119</td>\n",
       "      <td>-0.757274</td>\n",
       "      <td>-0.609940</td>\n",
       "      <td>-0.774975</td>\n",
       "      <td>-0.836241</td>\n",
       "      <td>-0.811701</td>\n",
       "      <td>-0.701353</td>\n",
       "      <td>-0.484445</td>\n",
       "      <td>-0.441008</td>\n",
       "      <td>-2.028672</td>\n",
       "    </tr>\n",
       "    <tr>\n",
       "      <th>...</th>\n",
       "      <td>...</td>\n",
       "      <td>...</td>\n",
       "      <td>...</td>\n",
       "      <td>...</td>\n",
       "      <td>...</td>\n",
       "      <td>...</td>\n",
       "      <td>...</td>\n",
       "      <td>...</td>\n",
       "      <td>...</td>\n",
       "      <td>...</td>\n",
       "    </tr>\n",
       "    <tr>\n",
       "      <th>1512</th>\n",
       "      <td>-0.526174</td>\n",
       "      <td>-0.423087</td>\n",
       "      <td>-0.559581</td>\n",
       "      <td>-0.060598</td>\n",
       "      <td>-0.395190</td>\n",
       "      <td>-0.397394</td>\n",
       "      <td>-0.160646</td>\n",
       "      <td>-0.115694</td>\n",
       "      <td>2.267532</td>\n",
       "      <td>-0.728916</td>\n",
       "    </tr>\n",
       "    <tr>\n",
       "      <th>1513</th>\n",
       "      <td>-0.542733</td>\n",
       "      <td>-0.473739</td>\n",
       "      <td>-0.575683</td>\n",
       "      <td>-0.020482</td>\n",
       "      <td>-0.374256</td>\n",
       "      <td>-0.360090</td>\n",
       "      <td>-0.216384</td>\n",
       "      <td>-0.484445</td>\n",
       "      <td>2.267532</td>\n",
       "      <td>-0.728916</td>\n",
       "    </tr>\n",
       "    <tr>\n",
       "      <th>1514</th>\n",
       "      <td>-0.542499</td>\n",
       "      <td>-0.462274</td>\n",
       "      <td>-0.572926</td>\n",
       "      <td>-0.078133</td>\n",
       "      <td>-0.378970</td>\n",
       "      <td>-0.368604</td>\n",
       "      <td>-0.227749</td>\n",
       "      <td>0.198838</td>\n",
       "      <td>2.267532</td>\n",
       "      <td>-0.728916</td>\n",
       "    </tr>\n",
       "    <tr>\n",
       "      <th>1515</th>\n",
       "      <td>-0.528393</td>\n",
       "      <td>-0.434646</td>\n",
       "      <td>-0.570201</td>\n",
       "      <td>-0.061391</td>\n",
       "      <td>-0.370914</td>\n",
       "      <td>-0.354260</td>\n",
       "      <td>-0.227067</td>\n",
       "      <td>-0.484445</td>\n",
       "      <td>2.267532</td>\n",
       "      <td>-0.728916</td>\n",
       "    </tr>\n",
       "    <tr>\n",
       "      <th>1516</th>\n",
       "      <td>-0.536439</td>\n",
       "      <td>-0.474544</td>\n",
       "      <td>-0.567881</td>\n",
       "      <td>-0.082004</td>\n",
       "      <td>-0.344123</td>\n",
       "      <td>-0.343323</td>\n",
       "      <td>-0.122607</td>\n",
       "      <td>-0.484445</td>\n",
       "      <td>2.267532</td>\n",
       "      <td>-0.728916</td>\n",
       "    </tr>\n",
       "  </tbody>\n",
       "</table>\n",
       "<p>1517 rows × 10 columns</p>\n",
       "</div>"
      ],
      "text/plain": [
       "      Total Volume      4046      4225      4770  Total Bags  Small Bags  \\\n",
       "0        -0.733064 -0.754854 -0.566874 -0.785170   -0.797193   -0.767310   \n",
       "1        -0.754712 -0.764810 -0.606522 -0.781141   -0.785869   -0.755078   \n",
       "2        -0.631111 -0.761258 -0.392628 -0.759276   -0.805221   -0.776190   \n",
       "3        -0.701924 -0.752543 -0.504144 -0.776048   -0.842671   -0.817536   \n",
       "4        -0.764119 -0.757274 -0.609940 -0.774975   -0.836241   -0.811701   \n",
       "...            ...       ...       ...       ...         ...         ...   \n",
       "1512     -0.526174 -0.423087 -0.559581 -0.060598   -0.395190   -0.397394   \n",
       "1513     -0.542733 -0.473739 -0.575683 -0.020482   -0.374256   -0.360090   \n",
       "1514     -0.542499 -0.462274 -0.572926 -0.078133   -0.378970   -0.368604   \n",
       "1515     -0.528393 -0.434646 -0.570201 -0.061391   -0.370914   -0.354260   \n",
       "1516     -0.536439 -0.474544 -0.567881 -0.082004   -0.344123   -0.343323   \n",
       "\n",
       "      Large Bags  XLarge Bags      year    region  \n",
       "0      -0.728504    -0.484445 -0.441008 -2.028672  \n",
       "1      -0.727165    -0.484445 -0.441008 -2.028672  \n",
       "2      -0.725426    -0.484445 -0.441008 -2.028672  \n",
       "3      -0.716734    -0.484445 -0.441008 -2.028672  \n",
       "4      -0.701353    -0.484445 -0.441008 -2.028672  \n",
       "...          ...          ...       ...       ...  \n",
       "1512   -0.160646    -0.115694  2.267532 -0.728916  \n",
       "1513   -0.216384    -0.484445  2.267532 -0.728916  \n",
       "1514   -0.227749     0.198838  2.267532 -0.728916  \n",
       "1515   -0.227067    -0.484445  2.267532 -0.728916  \n",
       "1516   -0.122607    -0.484445  2.267532 -0.728916  \n",
       "\n",
       "[1517 rows x 10 columns]"
      ]
     },
     "execution_count": 282,
     "metadata": {},
     "output_type": "execute_result"
    }
   ],
   "source": [
    "x"
   ]
  },
  {
   "cell_type": "code",
   "execution_count": 283,
   "metadata": {},
   "outputs": [
    {
     "data": {
      "text/html": [
       "<div>\n",
       "<style scoped>\n",
       "    .dataframe tbody tr th:only-of-type {\n",
       "        vertical-align: middle;\n",
       "    }\n",
       "\n",
       "    .dataframe tbody tr th {\n",
       "        vertical-align: top;\n",
       "    }\n",
       "\n",
       "    .dataframe thead th {\n",
       "        text-align: right;\n",
       "    }\n",
       "</style>\n",
       "<table border=\"1\" class=\"dataframe\">\n",
       "  <thead>\n",
       "    <tr style=\"text-align: right;\">\n",
       "      <th></th>\n",
       "      <th>num</th>\n",
       "    </tr>\n",
       "  </thead>\n",
       "  <tbody>\n",
       "    <tr>\n",
       "      <th>0</th>\n",
       "      <td>1.263670</td>\n",
       "    </tr>\n",
       "    <tr>\n",
       "      <th>1</th>\n",
       "      <td>1.349977</td>\n",
       "    </tr>\n",
       "    <tr>\n",
       "      <th>2</th>\n",
       "      <td>-0.711524</td>\n",
       "    </tr>\n",
       "    <tr>\n",
       "      <th>3</th>\n",
       "      <td>0.092633</td>\n",
       "    </tr>\n",
       "    <tr>\n",
       "      <th>4</th>\n",
       "      <td>1.043559</td>\n",
       "    </tr>\n",
       "    <tr>\n",
       "      <th>...</th>\n",
       "      <td>...</td>\n",
       "    </tr>\n",
       "    <tr>\n",
       "      <th>1512</th>\n",
       "      <td>1.519756</td>\n",
       "    </tr>\n",
       "    <tr>\n",
       "      <th>1513</th>\n",
       "      <td>2.008028</td>\n",
       "    </tr>\n",
       "    <tr>\n",
       "      <th>1514</th>\n",
       "      <td>1.888769</td>\n",
       "    </tr>\n",
       "    <tr>\n",
       "      <th>1515</th>\n",
       "      <td>1.848613</td>\n",
       "    </tr>\n",
       "    <tr>\n",
       "      <th>1516</th>\n",
       "      <td>1.685909</td>\n",
       "    </tr>\n",
       "  </tbody>\n",
       "</table>\n",
       "<p>1517 rows × 1 columns</p>\n",
       "</div>"
      ],
      "text/plain": [
       "           num\n",
       "0     1.263670\n",
       "1     1.349977\n",
       "2    -0.711524\n",
       "3     0.092633\n",
       "4     1.043559\n",
       "...        ...\n",
       "1512  1.519756\n",
       "1513  2.008028\n",
       "1514  1.888769\n",
       "1515  1.848613\n",
       "1516  1.685909\n",
       "\n",
       "[1517 rows x 1 columns]"
      ]
     },
     "execution_count": 283,
     "metadata": {},
     "output_type": "execute_result"
    }
   ],
   "source": [
    "y"
   ]
  },
  {
   "cell_type": "code",
   "execution_count": 284,
   "metadata": {},
   "outputs": [],
   "source": [
    "y=pd.DataFrame(y,columns=['num'])"
   ]
  },
  {
   "cell_type": "code",
   "execution_count": 285,
   "metadata": {},
   "outputs": [
    {
     "data": {
      "text/html": [
       "<div>\n",
       "<style scoped>\n",
       "    .dataframe tbody tr th:only-of-type {\n",
       "        vertical-align: middle;\n",
       "    }\n",
       "\n",
       "    .dataframe tbody tr th {\n",
       "        vertical-align: top;\n",
       "    }\n",
       "\n",
       "    .dataframe thead th {\n",
       "        text-align: right;\n",
       "    }\n",
       "</style>\n",
       "<table border=\"1\" class=\"dataframe\">\n",
       "  <thead>\n",
       "    <tr style=\"text-align: right;\">\n",
       "      <th></th>\n",
       "      <th>num</th>\n",
       "    </tr>\n",
       "  </thead>\n",
       "  <tbody>\n",
       "    <tr>\n",
       "      <th>0</th>\n",
       "      <td>1.263670</td>\n",
       "    </tr>\n",
       "    <tr>\n",
       "      <th>1</th>\n",
       "      <td>1.349977</td>\n",
       "    </tr>\n",
       "    <tr>\n",
       "      <th>2</th>\n",
       "      <td>-0.711524</td>\n",
       "    </tr>\n",
       "    <tr>\n",
       "      <th>3</th>\n",
       "      <td>0.092633</td>\n",
       "    </tr>\n",
       "    <tr>\n",
       "      <th>4</th>\n",
       "      <td>1.043559</td>\n",
       "    </tr>\n",
       "    <tr>\n",
       "      <th>...</th>\n",
       "      <td>...</td>\n",
       "    </tr>\n",
       "    <tr>\n",
       "      <th>1512</th>\n",
       "      <td>1.519756</td>\n",
       "    </tr>\n",
       "    <tr>\n",
       "      <th>1513</th>\n",
       "      <td>2.008028</td>\n",
       "    </tr>\n",
       "    <tr>\n",
       "      <th>1514</th>\n",
       "      <td>1.888769</td>\n",
       "    </tr>\n",
       "    <tr>\n",
       "      <th>1515</th>\n",
       "      <td>1.848613</td>\n",
       "    </tr>\n",
       "    <tr>\n",
       "      <th>1516</th>\n",
       "      <td>1.685909</td>\n",
       "    </tr>\n",
       "  </tbody>\n",
       "</table>\n",
       "<p>1517 rows × 1 columns</p>\n",
       "</div>"
      ],
      "text/plain": [
       "           num\n",
       "0     1.263670\n",
       "1     1.349977\n",
       "2    -0.711524\n",
       "3     0.092633\n",
       "4     1.043559\n",
       "...        ...\n",
       "1512  1.519756\n",
       "1513  2.008028\n",
       "1514  1.888769\n",
       "1515  1.848613\n",
       "1516  1.685909\n",
       "\n",
       "[1517 rows x 1 columns]"
      ]
     },
     "execution_count": 285,
     "metadata": {},
     "output_type": "execute_result"
    }
   ],
   "source": [
    "y"
   ]
  },
  {
   "cell_type": "code",
   "execution_count": 286,
   "metadata": {},
   "outputs": [],
   "source": [
    "from sklearn.model_selection import train_test_split,cross_val_score\n",
    "x_train,x_test,y_train,y_test=train_test_split(x,y,random_state=0,test_size=0.40)"
   ]
  },
  {
   "cell_type": "code",
   "execution_count": 287,
   "metadata": {},
   "outputs": [
    {
     "name": "stdout",
     "output_type": "stream",
     "text": [
      "(910, 10) (607, 10)\n"
     ]
    }
   ],
   "source": [
    "print(x_train.shape,x_test.shape)"
   ]
  },
  {
   "cell_type": "code",
   "execution_count": 288,
   "metadata": {},
   "outputs": [
    {
     "name": "stdout",
     "output_type": "stream",
     "text": [
      "(910, 1) (607, 1)\n"
     ]
    }
   ],
   "source": [
    "print(y_train.shape,y_test.shape)"
   ]
  },
  {
   "cell_type": "code",
   "execution_count": 289,
   "metadata": {},
   "outputs": [],
   "source": [
    "from sklearn.linear_model import LinearRegression\n",
    "lg=LinearRegression()"
   ]
  },
  {
   "cell_type": "code",
   "execution_count": 290,
   "metadata": {},
   "outputs": [],
   "source": [
    "from sklearn.metrics import mean_absolute_error\n",
    "from sklearn.metrics import r2_score\n",
    "from sklearn.metrics import mean_squared_error\n",
    "from sklearn.model_selection import train_test_split\n",
    "def maxr2_score(lg,x,y):\n",
    "    max_r_score=0\n",
    "    for r_state in range(0,101):\n",
    "        x_train,x_test,y_train,y_test=train_test_split(x,y,random_state=r_state,test_size=0.20)\n",
    "        lg.fit(x_train,y_train)\n",
    "        y_pred=lg.predict(x_test)\n",
    "        r2_scr=r2_score(y_test,y_pred)\n",
    "        print(\" r2 score coressponding o \",r_state,'is',r2_scr)\n",
    "        if r2_scr>max_r_score:\n",
    "            max_r_score=r2_scr\n",
    "            final_r_state=r_state\n",
    "        print(\"max r2 score coresspondnig to \",final_r_state,'is',max_r_score)\n",
    "        return final_r_state\n",
    "        "
   ]
  },
  {
   "cell_type": "code",
   "execution_count": 291,
   "metadata": {},
   "outputs": [
    {
     "name": "stdout",
     "output_type": "stream",
     "text": [
      " r2 score coressponding o  0 is 0.25335430866577335\n",
      "max r2 score coresspondnig to  0 is 0.25335430866577335\n"
     ]
    }
   ],
   "source": [
    "from sklearn.linear_model import LinearRegression\n",
    "lreg=LinearRegression()\n",
    "r_state=maxr2_score(lreg,x,y)"
   ]
  },
  {
   "cell_type": "code",
   "execution_count": 292,
   "metadata": {},
   "outputs": [
    {
     "data": {
      "text/plain": [
       "{'n_neighbors': 49}"
      ]
     },
     "execution_count": 292,
     "metadata": {},
     "output_type": "execute_result"
    }
   ],
   "source": [
    "from sklearn.model_selection import GridSearchCV\n",
    "from sklearn.neighbors import KNeighborsRegressor\n",
    "\n",
    "from sklearn.neighbors import KNeighborsRegressor\n",
    "neighbors={'n_neighbors':range(1,50)}\n",
    "r=KNeighborsRegressor()\n",
    "gknr=GridSearchCV(r,neighbors,cv=10)\n",
    "gknr.fit(x,y)\n",
    "gknr.best_params_"
   ]
  },
  {
   "cell_type": "code",
   "execution_count": 327,
   "metadata": {},
   "outputs": [
    {
     "name": "stdout",
     "output_type": "stream",
     "text": [
      " r2 score :  0.40749555228484224\n"
     ]
    }
   ],
   "source": [
    "knr=KNeighborsRegressor(n_neighbors=49)\n",
    "knr.fit(train_x,train_y)\n",
    "pred=knr.predict(test_x)\n",
    "r2=r2_score(test_y,pred)\n",
    "print(\" r2 score : \",r2)\n",
    "\n"
   ]
  },
  {
   "cell_type": "code",
   "execution_count": 294,
   "metadata": {},
   "outputs": [
    {
     "name": "stdout",
     "output_type": "stream",
     "text": [
      " Mean r2 score for linear regression is  -0.24643259597619022\n",
      " Mean r2 score for Kneighbors is  0.21311275247073888\n"
     ]
    }
   ],
   "source": [
    "# now checking the cross validation score fro both the model \n",
    "from sklearn.model_selection import cross_val_score\n",
    "print(\" Mean r2 score for linear regression is \",cross_val_score(lreg,x,y,cv=5,scoring='r2').mean())\n",
    "print(\" Mean r2 score for Kneighbors is \",cross_val_score(knr,x,y,cv=5,scoring='r2').mean())"
   ]
  },
  {
   "cell_type": "code",
   "execution_count": 295,
   "metadata": {},
   "outputs": [
    {
     "data": {
      "text/plain": [
       "GridSearchCV(cv=10,\n",
       "             estimator=<class 'sklearn.linear_model._coordinate_descent.Lasso'>,\n",
       "             param_grid={'alpha': [0.001, 0.01, 0.1, 1]})"
      ]
     },
     "execution_count": 295,
     "metadata": {},
     "output_type": "execute_result"
    }
   ],
   "source": [
    "# lets check lasso and find best value for alpha \n",
    "from sklearn.linear_model import Lasso\n",
    "lsreg=Lasso\n",
    "parameters={'alpha':[0.001,0.01,0.1,1]}\n",
    "clg=GridSearchCV(lsreg,parameters,cv=10)\n",
    "\n",
    "clg"
   ]
  },
  {
   "cell_type": "code",
   "execution_count": 296,
   "metadata": {},
   "outputs": [
    {
     "name": "stdout",
     "output_type": "stream",
     "text": [
      " r2 score coressponding o  0 is 0.10764702651170921\n",
      "max r2 score coresspondnig to  0 is 0.10764702651170921\n"
     ]
    }
   ],
   "source": [
    "lsreg=Lasso(alpha=0.1)\n",
    "r_state=maxr2_score(lsreg,x,y)"
   ]
  },
  {
   "cell_type": "code",
   "execution_count": 297,
   "metadata": {},
   "outputs": [
    {
     "name": "stdout",
     "output_type": "stream",
     "text": [
      " Mean r2 score for lasso regression is  0.027981060060854414\n"
     ]
    }
   ],
   "source": [
    "print(\" Mean r2 score for lasso regression is \",cross_val_score(lsreg,x,y,cv=5,scoring='r2').mean())"
   ]
  },
  {
   "cell_type": "code",
   "execution_count": 373,
   "metadata": {},
   "outputs": [],
   "source": [
    "# try using gradient boosting techniques\n",
    "from sklearn.ensemble import GradientBoostingRegressor\n",
    "import warnings\n",
    "warnings.filterwarnings('ignore')\n",
    "gbr=GradientBoostingRegressor()\n",
    "parameters={'Learning_rate':[0.001,0.01,0.1,1],'n_estimators':[50,100,150,200]}\n",
    "clf=GridSearchCV(gbr,parameters,cv=10)\n"
   ]
  },
  {
   "cell_type": "code",
   "execution_count": 374,
   "metadata": {},
   "outputs": [
    {
     "data": {
      "text/plain": [
       "GradientBoostingRegressor(learning_rate=0.01)"
      ]
     },
     "execution_count": 374,
     "metadata": {},
     "output_type": "execute_result"
    }
   ],
   "source": [
    "gbr=GradientBoostingRegressor(learning_rate=0.01,n_estimators=100)\n",
    "gbr"
   ]
  },
  {
   "cell_type": "code",
   "execution_count": 375,
   "metadata": {},
   "outputs": [
    {
     "name": "stdout",
     "output_type": "stream",
     "text": [
      " Mean r2 score for Gradient boosting is   0.3167557200057082\n"
     ]
    }
   ],
   "source": [
    "print(\" Mean r2 score for Gradient boosting is  \",cross_val_score(gbr,x,y,cv=5,scoring='r2').mean())"
   ]
  },
  {
   "cell_type": "code",
   "execution_count": 325,
   "metadata": {},
   "outputs": [
    {
     "name": "stdout",
     "output_type": "stream",
     "text": [
      "r2 score coresspond to random state  20 is 0.5513038874943691\n",
      "r2 score coresspond to random state  20 is 0.8294210464737161\n",
      "r2 score coresspond to random state  20 is 0.6586137351467933\n",
      "r2 score coresspond to random state  20 is 0.30869219166247175\n",
      "r2 score coresspond to random state  20 is 0.7673546018131271\n",
      "r2 score coresspond to random state  21 is 0.6445709316741302\n",
      "r2 score coresspond to random state  21 is 0.8539934948894702\n",
      "r2 score coresspond to random state  21 is 0.6735452793550527\n",
      "r2 score coresspond to random state  21 is 0.35605208802688115\n",
      "r2 score coresspond to random state  21 is 0.7882975746845522\n",
      "r2 score coresspond to random state  22 is 0.6290812247093986\n",
      "r2 score coresspond to random state  22 is 0.81708155797774\n",
      "r2 score coresspond to random state  22 is 0.6366658394372076\n",
      "r2 score coresspond to random state  22 is 0.27477844353400593\n",
      "r2 score coresspond to random state  22 is 0.7633108847065878\n",
      "r2 score coresspond to random state  23 is 0.6070296762155031\n",
      "r2 score coresspond to random state  23 is 0.8103271772807618\n",
      "r2 score coresspond to random state  23 is 0.6173443509268761\n",
      "r2 score coresspond to random state  23 is 0.32015100820077436\n",
      "r2 score coresspond to random state  23 is 0.7535115501359398\n",
      "r2 score coresspond to random state  24 is 0.6236733488785088\n",
      "r2 score coresspond to random state  24 is 0.8057115618417329\n",
      "r2 score coresspond to random state  24 is 0.6529891542323212\n",
      "r2 score coresspond to random state  24 is 0.3151235725210578\n",
      "r2 score coresspond to random state  24 is 0.7678645796258103\n",
      "r2 score coresspond to random state  25 is 0.6166923960281923\n",
      "r2 score coresspond to random state  25 is 0.8259907424907882\n",
      "r2 score coresspond to random state  25 is 0.6007862674886455\n",
      "r2 score coresspond to random state  25 is 0.2844381217268226\n",
      "r2 score coresspond to random state  25 is 0.7508654399471619\n",
      "r2 score coresspond to random state  26 is 0.6518626042233697\n",
      "r2 score coresspond to random state  26 is 0.8371808613062672\n",
      "r2 score coresspond to random state  26 is 0.6215765782927904\n",
      "r2 score coresspond to random state  26 is 0.30684243699787694\n",
      "r2 score coresspond to random state  26 is 0.733274738904421\n",
      "r2 score coresspond to random state  27 is 0.6684876145413735\n",
      "r2 score coresspond to random state  27 is 0.82284461347149\n",
      "r2 score coresspond to random state  27 is 0.6476260839855505\n",
      "r2 score coresspond to random state  27 is 0.33429729944588626\n",
      "r2 score coresspond to random state  27 is 0.7526301576369423\n",
      "r2 score coresspond to random state  28 is 0.6942824342190428\n",
      "r2 score coresspond to random state  28 is 0.8342384334533576\n",
      "r2 score coresspond to random state  28 is 0.6809581176746159\n",
      "r2 score coresspond to random state  28 is 0.30747327398014357\n",
      "r2 score coresspond to random state  28 is 0.7706968132296003\n",
      "r2 score coresspond to random state  29 is 0.7243391143065514\n",
      "r2 score coresspond to random state  29 is 0.8347398772041885\n",
      "r2 score coresspond to random state  29 is 0.6607844393036368\n",
      "r2 score coresspond to random state  29 is 0.3259974469256953\n",
      "r2 score coresspond to random state  29 is 0.772348225464108\n",
      "r2 score coresspond to random state  30 is 0.5644804333192273\n",
      "r2 score coresspond to random state  30 is 0.8247493114442059\n",
      "r2 score coresspond to random state  30 is 0.6113677919287235\n",
      "r2 score coresspond to random state  30 is 0.3050095131419611\n",
      "r2 score coresspond to random state  30 is 0.7452682850211132\n",
      "r2 score coresspond to random state  31 is 0.6243669564468964\n",
      "r2 score coresspond to random state  31 is 0.8326379847964516\n",
      "r2 score coresspond to random state  31 is 0.6450090628812273\n",
      "r2 score coresspond to random state  31 is 0.27465991116219635\n",
      "r2 score coresspond to random state  31 is 0.7607276328262007\n",
      "r2 score coresspond to random state  32 is 0.6523067971908079\n",
      "r2 score coresspond to random state  32 is 0.8249797978012798\n",
      "r2 score coresspond to random state  32 is 0.6404629333767546\n",
      "r2 score coresspond to random state  32 is 0.29935206393322034\n",
      "r2 score coresspond to random state  32 is 0.7438783160948462\n",
      "r2 score coresspond to random state  33 is 0.7288156249065165\n",
      "r2 score coresspond to random state  33 is 0.8387865075077068\n",
      "r2 score coresspond to random state  33 is 0.6529797725443325\n",
      "r2 score coresspond to random state  33 is 0.3043618657521525\n",
      "r2 score coresspond to random state  33 is 0.7525586345331841\n",
      "r2 score coresspond to random state  34 is 0.6204914329206475\n",
      "r2 score coresspond to random state  34 is 0.8122778815086427\n",
      "r2 score coresspond to random state  34 is 0.5742817165265237\n",
      "r2 score coresspond to random state  34 is 0.28268469279222697\n",
      "r2 score coresspond to random state  34 is 0.732425528393468\n",
      "r2 score coresspond to random state  35 is 0.7277156454731761\n",
      "r2 score coresspond to random state  35 is 0.8333882582705867\n",
      "r2 score coresspond to random state  35 is 0.6306158931614712\n",
      "r2 score coresspond to random state  35 is 0.31648424672285447\n",
      "r2 score coresspond to random state  35 is 0.7486015781043038\n",
      "r2 score coresspond to random state  36 is 0.596900745603425\n",
      "r2 score coresspond to random state  36 is 0.8277375811500274\n",
      "r2 score coresspond to random state  36 is 0.6620972082752752\n",
      "r2 score coresspond to random state  36 is 0.32658823300287654\n",
      "r2 score coresspond to random state  36 is 0.7692032039362499\n",
      "r2 score coresspond to random state  37 is 0.742481909380739\n",
      "r2 score coresspond to random state  37 is 0.8223267966504166\n",
      "r2 score coresspond to random state  37 is 0.6026131986576857\n",
      "r2 score coresspond to random state  37 is 0.296772659662804\n",
      "r2 score coresspond to random state  37 is 0.733132885713699\n",
      "r2 score coresspond to random state  38 is 0.7043536006106763\n",
      "r2 score coresspond to random state  38 is 0.8198180668039016\n",
      "r2 score coresspond to random state  38 is 0.6285522236772232\n",
      "r2 score coresspond to random state  38 is 0.31731531035475136\n",
      "r2 score coresspond to random state  38 is 0.7737506856451081\n",
      "r2 score coresspond to random state  39 is 0.6138926533311656\n",
      "r2 score coresspond to random state  39 is 0.8267010609240448\n",
      "r2 score coresspond to random state  39 is 0.6000950556335334\n",
      "r2 score coresspond to random state  39 is 0.31801925761688676\n",
      "r2 score coresspond to random state  39 is 0.736968077639558\n",
      "r2 score coresspond to random state  40 is 0.5921235024158948\n",
      "r2 score coresspond to random state  40 is 0.8308996606458544\n",
      "r2 score coresspond to random state  40 is 0.6568986427366792\n",
      "r2 score coresspond to random state  40 is 0.3105145454976729\n",
      "r2 score coresspond to random state  40 is 0.7527079872533716\n",
      "r2 score coresspond to random state  41 is 0.6695449731344345\n",
      "r2 score coresspond to random state  41 is 0.8352569906580589\n",
      "r2 score coresspond to random state  41 is 0.6364202125886114\n",
      "r2 score coresspond to random state  41 is 0.3032174627082951\n",
      "r2 score coresspond to random state  41 is 0.7718713452232899\n",
      "r2 score coresspond to random state  42 is 0.695508774157649\n",
      "r2 score coresspond to random state  42 is 0.8321078337834181\n",
      "r2 score coresspond to random state  42 is 0.6512210863072381\n",
      "r2 score coresspond to random state  42 is 0.31039225324645847\n",
      "r2 score coresspond to random state  42 is 0.768747593202434\n",
      "r2 score coresspond to random state  43 is 0.7306432654433136\n",
      "r2 score coresspond to random state  43 is 0.8348884634058926\n",
      "r2 score coresspond to random state  43 is 0.6544087256456412\n",
      "r2 score coresspond to random state  43 is 0.3436944626651608\n",
      "r2 score coresspond to random state  43 is 0.7793690620824745\n",
      "r2 score coresspond to random state  44 is 0.614540131303484\n",
      "r2 score coresspond to random state  44 is 0.8067233187168488\n",
      "r2 score coresspond to random state  44 is 0.5574959818287326\n",
      "r2 score coresspond to random state  44 is 0.2683864877846689\n",
      "r2 score coresspond to random state  44 is 0.7089572562397288\n",
      "r2 score coresspond to random state  45 is 0.6222896723477975\n",
      "r2 score coresspond to random state  45 is 0.7873816981989962\n",
      "r2 score coresspond to random state  45 is 0.5897654347702018\n",
      "r2 score coresspond to random state  45 is 0.2264530854702943\n",
      "r2 score coresspond to random state  45 is 0.713387303614273\n",
      "r2 score coresspond to random state  46 is 0.6727861208685828\n",
      "r2 score coresspond to random state  46 is 0.8141988868327891\n",
      "r2 score coresspond to random state  46 is 0.6214713486179095\n"
     ]
    },
    {
     "name": "stdout",
     "output_type": "stream",
     "text": [
      "r2 score coresspond to random state  46 is 0.3296137671440871\n",
      "r2 score coresspond to random state  46 is 0.7434020522968259\n",
      "r2 score coresspond to random state  47 is 0.708956623315816\n",
      "r2 score coresspond to random state  47 is 0.8371253992104672\n",
      "r2 score coresspond to random state  47 is 0.6560638346089083\n",
      "r2 score coresspond to random state  47 is 0.3417887888916462\n",
      "r2 score coresspond to random state  47 is 0.7760328713061648\n",
      "r2 score coresspond to random state  48 is 0.35532173905484576\n",
      "r2 score coresspond to random state  48 is 0.8247487643793805\n",
      "r2 score coresspond to random state  48 is 0.6035609813302314\n",
      "r2 score coresspond to random state  48 is 0.2271161713009805\n",
      "r2 score coresspond to random state  48 is 0.7599313385454982\n",
      "r2 score coresspond to random state  49 is 0.647012329055433\n",
      "r2 score coresspond to random state  49 is 0.8507437354569377\n",
      "r2 score coresspond to random state  49 is 0.6302290892841369\n",
      "r2 score coresspond to random state  49 is 0.29399885567268125\n",
      "r2 score coresspond to random state  49 is 0.757506857308717\n",
      "r2 score coresspond to random state  50 is 0.7003276151339066\n",
      "r2 score coresspond to random state  50 is 0.7965274719144102\n",
      "r2 score coresspond to random state  50 is 0.6118084629393119\n",
      "r2 score coresspond to random state  50 is 0.2625969570930847\n",
      "r2 score coresspond to random state  50 is 0.7308516838479826\n",
      "r2 score coresspond to random state  51 is 0.7134152983201645\n",
      "r2 score coresspond to random state  51 is 0.8189470004786518\n",
      "r2 score coresspond to random state  51 is 0.6626406168567552\n",
      "r2 score coresspond to random state  51 is 0.33729498170403605\n",
      "r2 score coresspond to random state  51 is 0.7710670234165419\n",
      "r2 score coresspond to random state  52 is 0.6937993843209435\n",
      "r2 score coresspond to random state  52 is 0.848163160206005\n",
      "r2 score coresspond to random state  52 is 0.6796390154052028\n",
      "r2 score coresspond to random state  52 is 0.3510308252988409\n",
      "r2 score coresspond to random state  52 is 0.7655008100111769\n",
      "r2 score coresspond to random state  53 is 0.720224521011855\n",
      "r2 score coresspond to random state  53 is 0.8388288514362768\n",
      "r2 score coresspond to random state  53 is 0.656743843618395\n",
      "r2 score coresspond to random state  53 is 0.31501494584512224\n",
      "r2 score coresspond to random state  53 is 0.7741576766946194\n",
      "r2 score coresspond to random state  54 is 0.6516484708927537\n",
      "r2 score coresspond to random state  54 is 0.8371449707802653\n",
      "r2 score coresspond to random state  54 is 0.6402381772229186\n",
      "r2 score coresspond to random state  54 is 0.3416523825968041\n",
      "r2 score coresspond to random state  54 is 0.7498654124612019\n",
      "r2 score coresspond to random state  55 is 0.6520839880685807\n",
      "r2 score coresspond to random state  55 is 0.8349741717134453\n",
      "r2 score coresspond to random state  55 is 0.6356889532266206\n",
      "r2 score coresspond to random state  55 is 0.35426394350665624\n",
      "r2 score coresspond to random state  55 is 0.7544340158432566\n",
      "r2 score coresspond to random state  56 is 0.4537840195867793\n",
      "r2 score coresspond to random state  56 is 0.8307849118700489\n",
      "r2 score coresspond to random state  56 is 0.6145990878246053\n",
      "r2 score coresspond to random state  56 is 0.21337209197700713\n",
      "r2 score coresspond to random state  56 is 0.7087952576159047\n",
      "r2 score coresspond to random state  57 is 0.7147436719085927\n",
      "r2 score coresspond to random state  57 is 0.8330090388741687\n",
      "r2 score coresspond to random state  57 is 0.6554214523863735\n",
      "r2 score coresspond to random state  57 is 0.3252800265127841\n",
      "r2 score coresspond to random state  57 is 0.780195831057795\n",
      "r2 score coresspond to random state  58 is 0.6981111578351116\n",
      "r2 score coresspond to random state  58 is 0.8122128759387515\n",
      "r2 score coresspond to random state  58 is 0.6426126641898651\n",
      "r2 score coresspond to random state  58 is 0.30050898606353094\n",
      "r2 score coresspond to random state  58 is 0.7398322948993322\n",
      "r2 score coresspond to random state  59 is 0.6517240273302503\n",
      "r2 score coresspond to random state  59 is 0.8359052084780205\n",
      "r2 score coresspond to random state  59 is 0.6167884141556124\n",
      "r2 score coresspond to random state  59 is 0.27083806543124656\n",
      "r2 score coresspond to random state  59 is 0.7383251711711571\n",
      "\n",
      "\n",
      "max r2 score coresspond to random state is 21 is 0.8539934948894702 model is  KNeighborsRegressor()\n"
     ]
    }
   ],
   "source": [
    "model=[DecisionTreeRegressor(),KNeighborsRegressor(),AdaBoostRegressor(),LinearRegression(),GradientBoostingRegressor()]\n",
    "max_r2_score=0\n",
    "for r_state in range(20,60):\n",
    "    train_x,test_x,train_y,test_y=train_test_split(x,y,random_state=r_state,test_size=0.33)\n",
    "    for i in model:\n",
    "        i.fit(train_x,train_y)\n",
    "        pre=i.predict(test_x)\n",
    "        r2=r2_score(test_y,pre)\n",
    "        print(\"r2 score coresspond to random state \",r_state,'is',r2)\n",
    "        if r2>max_r2_score:\n",
    "            max_r2_score=r2\n",
    "            final_state=r_state\n",
    "            final_model=i\n",
    "print()\n",
    "print()\n",
    "print(\"max r2 score coresspond to random state is\" , final_state,'is',max_r2_score,'model is ', final_model )\n",
    "            "
   ]
  },
  {
   "cell_type": "code",
   "execution_count": 376,
   "metadata": {},
   "outputs": [
    {
     "data": {
      "text/plain": [
       "{'base_estimator': DecisionTreeRegressor(), 'learning_rate': 1}"
      ]
     },
     "execution_count": 376,
     "metadata": {},
     "output_type": "execute_result"
    }
   ],
   "source": [
    "from sklearn.ensemble import AdaBoostRegressor\n",
    "from sklearn.tree import DecisionTreeRegressor\n",
    "ada_reg=AdaBoostRegressor()\n",
    "dtr=DecisionTreeRegressor()\n",
    "parameters={'learning_rate':[0.001,0.01,0.1,1],'base_estimator':[lreg,lsreg,dtr,knr]}\n",
    "clg=GridSearchCV(ada_reg,parameters,cv=5)\n",
    "clg.fit(x,y)\n",
    "clg.best_params_"
   ]
  },
  {
   "cell_type": "code",
   "execution_count": 377,
   "metadata": {},
   "outputs": [
    {
     "name": "stdout",
     "output_type": "stream",
     "text": [
      " Mean r2 score for Ada boosting is   0.21260020131873997\n"
     ]
    }
   ],
   "source": [
    "ada_reg=AdaBoostRegressor(base_estimator = DecisionTreeRegressor(), learning_rate= 1)\n",
    "print(\" Mean r2 score for Ada boosting is  \",cross_val_score(ada_reg,x,y,cv=5,scoring='r2').mean())"
   ]
  },
  {
   "cell_type": "code",
   "execution_count": 378,
   "metadata": {},
   "outputs": [
    {
     "name": "stdout",
     "output_type": "stream",
     "text": [
      " r2 score coressponding o  0 is 0.8394538359447029\n",
      "max r2 score coresspondnig to  0 is 0.8394538359447029\n"
     ]
    },
    {
     "data": {
      "text/plain": [
       "0"
      ]
     },
     "execution_count": 378,
     "metadata": {},
     "output_type": "execute_result"
    }
   ],
   "source": [
    "r_state=maxr2_score(ada_reg,x,y)\n",
    "r_state"
   ]
  },
  {
   "cell_type": "code",
   "execution_count": 379,
   "metadata": {},
   "outputs": [
    {
     "name": "stdout",
     "output_type": "stream",
     "text": [
      "MAE: 0.639213578488353\n",
      "MSE: 0.7438243570843996\n",
      "RMSE: 0.8624525245394089\n"
     ]
    }
   ],
   "source": [
    "from sklearn import metrics\n",
    "from sklearn.linear_model import LinearRegression\n",
    "lg=LinearRegression()\n",
    "lg.fit(x_train,y_train)\n",
    "pred=lg.predict(x_test)\n",
    "print('MAE:', metrics.mean_absolute_error(y_test, pred))\n",
    "print('MSE:', metrics.mean_squared_error(y_test, pred))\n",
    "print('RMSE:', np.sqrt(metrics.mean_squared_error(y_test, pred)))\n",
    "\n"
   ]
  },
  {
   "cell_type": "code",
   "execution_count": 308,
   "metadata": {},
   "outputs": [
    {
     "data": {
      "text/plain": [
       "<matplotlib.collections.PathCollection at 0x14a1a60a550>"
      ]
     },
     "execution_count": 308,
     "metadata": {},
     "output_type": "execute_result"
    },
    {
     "data": {
      "image/png": "[encoded data removed]",
      "text/plain": [
       "<Figure size 432x288 with 1 Axes>"
      ]
     },
     "metadata": {
      "needs_background": "light"
     },
     "output_type": "display_data"
    }
   ],
   "source": [
    "plt.scatter(x=y_test,y=pred)"
   ]
  },
  {
   "cell_type": "code",
   "execution_count": 380,
   "metadata": {},
   "outputs": [],
   "source": [
    "from sklearn.tree import DecisionTreeRegressor\n",
    "dtr=DecisionTreeRegressor()\n",
    "dtr.fit(x_train,y_train)\n",
    "pred=dtr.predict(x_test)"
   ]
  },
  {
   "cell_type": "code",
   "execution_count": 381,
   "metadata": {},
   "outputs": [
    {
     "data": {
      "text/plain": [
       "Text(0, 0.5, 'Predicted Y')"
      ]
     },
     "execution_count": 381,
     "metadata": {},
     "output_type": "execute_result"
    },
    {
     "data": {
      "image/png": "[encoded data removed]",
      "text/plain": [
       "<Figure size 432x288 with 1 Axes>"
      ]
     },
     "metadata": {
      "needs_background": "light"
     },
     "output_type": "display_data"
    }
   ],
   "source": [
    "plt.scatter(x=y_test,y=pred)\n",
    "plt.xlabel('Y Test')\n",
    "plt.ylabel('Predicted Y')"
   ]
  },
  {
   "cell_type": "code",
   "execution_count": 382,
   "metadata": {},
   "outputs": [
    {
     "name": "stdout",
     "output_type": "stream",
     "text": [
      "abs: 0.4001551238700432\n",
      "mse: 0.3299049862286125\n",
      "Rmse: 0.5743735598272369\n"
     ]
    }
   ],
   "source": [
    "print('abs:', metrics.mean_absolute_error(y_test, pred))\n",
    "print('mse:', metrics.mean_squared_error(y_test, pred))\n",
    "print('Rmse:', np.sqrt(metrics.mean_squared_error(y_test, pred)))"
   ]
  },
  {
   "cell_type": "code",
   "execution_count": 383,
   "metadata": {},
   "outputs": [],
   "source": [
    "from sklearn.ensemble import RandomForestRegressor\n",
    "rdr = RandomForestRegressor()\n",
    "rdr.fit(x_train,y_train)\n",
    "pred=rdr.predict(x_test)\n"
   ]
  },
  {
   "cell_type": "code",
   "execution_count": 384,
   "metadata": {},
   "outputs": [
    {
     "name": "stdout",
     "output_type": "stream",
     "text": [
      "abs: 0.31980019094954887\n",
      "mse: 0.20720219932370007\n",
      "rmse: 0.4551946828816216\n"
     ]
    }
   ],
   "source": [
    "print('abs:', metrics.mean_absolute_error(y_test, pred))\n",
    "print('mse:', metrics.mean_squared_error(y_test, pred))\n",
    "print('rmse:', np.sqrt(metrics.mean_squared_error(y_test, pred)))\n"
   ]
  },
  {
   "cell_type": "code",
   "execution_count": null,
   "metadata": {},
   "outputs": [],
   "source": [
    "# out of all the Ada boost regresor is  is working nicely so i would like to choose it\n",
    "import joblib"
   ]
  },
  {
   "cell_type": "code",
   "execution_count": 385,
   "metadata": {},
   "outputs": [
    {
     "data": {
      "text/plain": [
       "['Avacado_project_reg.ipynb']"
      ]
     },
     "execution_count": 385,
     "metadata": {},
     "output_type": "execute_result"
    }
   ],
   "source": [
    "joblib.dump(ada_reg,'Avacado_project_reg.ipynb')"
   ]
  },
  {
   "cell_type": "markdown",
   "metadata": {},
   "source": [
    "# now implementing classification with region"
   ]
  },
  {
   "cell_type": "code",
   "execution_count": 329,
   "metadata": {},
   "outputs": [],
   "source": [
    "from sklearn.metrics import accuracy_score,classification_report,confusion_matrix,roc_auc_score,roc_curve"
   ]
  },
  {
   "cell_type": "code",
   "execution_count": 331,
   "metadata": {},
   "outputs": [],
   "source": [
    "from sklearn.linear_model import LogisticRegression\n",
    "from sklearn.naive_bayes import MultinomialNB\n",
    "from sklearn.neighbors import KNeighborsClassifier\n",
    "from sklearn.svm import SVC\n",
    "from sklearn.tree import DecisionTreeClassifier\n",
    "from sklearn.ensemble import AdaBoostClassifier,GradientBoostingClassifier"
   ]
  },
  {
   "cell_type": "code",
   "execution_count": 332,
   "metadata": {},
   "outputs": [],
   "source": [
    "x_r=data.drop(columns=['region'])\n",
    "y_r=data[['region']]"
   ]
  },
  {
   "cell_type": "code",
   "execution_count": 333,
   "metadata": {},
   "outputs": [
    {
     "name": "stdout",
     "output_type": "stream",
     "text": [
      "(1517, 10)\n",
      "(1517, 1)\n"
     ]
    }
   ],
   "source": [
    "print(x_r.shape)\n",
    "print(y_r.shape)"
   ]
  },
  {
   "cell_type": "raw",
   "metadata": {},
   "source": [
    "sc=StandardScaler()\n",
    "sc.fit_transform(x_r)\n",
    "x_r=pd.DataFrame(x_r,columns=x_r.columns)"
   ]
  },
  {
   "cell_type": "code",
   "execution_count": 336,
   "metadata": {},
   "outputs": [
    {
     "data": {
      "text/html": [
       "<div>\n",
       "<style scoped>\n",
       "    .dataframe tbody tr th:only-of-type {\n",
       "        vertical-align: middle;\n",
       "    }\n",
       "\n",
       "    .dataframe tbody tr th {\n",
       "        vertical-align: top;\n",
       "    }\n",
       "\n",
       "    .dataframe thead th {\n",
       "        text-align: right;\n",
       "    }\n",
       "</style>\n",
       "<table border=\"1\" class=\"dataframe\">\n",
       "  <thead>\n",
       "    <tr style=\"text-align: right;\">\n",
       "      <th></th>\n",
       "      <th>AveragePrice</th>\n",
       "      <th>Total Volume</th>\n",
       "      <th>4046</th>\n",
       "      <th>4225</th>\n",
       "      <th>4770</th>\n",
       "      <th>Total Bags</th>\n",
       "      <th>Small Bags</th>\n",
       "      <th>Large Bags</th>\n",
       "      <th>XLarge Bags</th>\n",
       "      <th>year</th>\n",
       "    </tr>\n",
       "  </thead>\n",
       "  <tbody>\n",
       "    <tr>\n",
       "      <th>0</th>\n",
       "      <td>1.33</td>\n",
       "      <td>64236.62</td>\n",
       "      <td>1036.74</td>\n",
       "      <td>54454.85</td>\n",
       "      <td>48.16</td>\n",
       "      <td>8696.87</td>\n",
       "      <td>8603.62</td>\n",
       "      <td>93.25</td>\n",
       "      <td>0.00</td>\n",
       "      <td>2015</td>\n",
       "    </tr>\n",
       "    <tr>\n",
       "      <th>1</th>\n",
       "      <td>1.35</td>\n",
       "      <td>54876.98</td>\n",
       "      <td>674.28</td>\n",
       "      <td>44638.81</td>\n",
       "      <td>58.33</td>\n",
       "      <td>9505.56</td>\n",
       "      <td>9408.07</td>\n",
       "      <td>97.49</td>\n",
       "      <td>0.00</td>\n",
       "      <td>2015</td>\n",
       "    </tr>\n",
       "    <tr>\n",
       "      <th>2</th>\n",
       "      <td>0.93</td>\n",
       "      <td>118220.22</td>\n",
       "      <td>794.70</td>\n",
       "      <td>109149.67</td>\n",
       "      <td>130.50</td>\n",
       "      <td>8145.35</td>\n",
       "      <td>8042.21</td>\n",
       "      <td>103.14</td>\n",
       "      <td>0.00</td>\n",
       "      <td>2015</td>\n",
       "    </tr>\n",
       "    <tr>\n",
       "      <th>3</th>\n",
       "      <td>1.08</td>\n",
       "      <td>78992.15</td>\n",
       "      <td>1132.00</td>\n",
       "      <td>71976.41</td>\n",
       "      <td>72.58</td>\n",
       "      <td>5811.16</td>\n",
       "      <td>5677.40</td>\n",
       "      <td>133.76</td>\n",
       "      <td>0.00</td>\n",
       "      <td>2015</td>\n",
       "    </tr>\n",
       "    <tr>\n",
       "      <th>4</th>\n",
       "      <td>1.28</td>\n",
       "      <td>51039.60</td>\n",
       "      <td>941.48</td>\n",
       "      <td>43838.39</td>\n",
       "      <td>75.78</td>\n",
       "      <td>6183.95</td>\n",
       "      <td>5986.26</td>\n",
       "      <td>197.69</td>\n",
       "      <td>0.00</td>\n",
       "      <td>2015</td>\n",
       "    </tr>\n",
       "    <tr>\n",
       "      <th>...</th>\n",
       "      <td>...</td>\n",
       "      <td>...</td>\n",
       "      <td>...</td>\n",
       "      <td>...</td>\n",
       "      <td>...</td>\n",
       "      <td>...</td>\n",
       "      <td>...</td>\n",
       "      <td>...</td>\n",
       "      <td>...</td>\n",
       "      <td>...</td>\n",
       "    </tr>\n",
       "    <tr>\n",
       "      <th>10</th>\n",
       "      <td>1.39</td>\n",
       "      <td>190846.01</td>\n",
       "      <td>57529.11</td>\n",
       "      <td>56366.66</td>\n",
       "      <td>17531.78</td>\n",
       "      <td>59418.46</td>\n",
       "      <td>48823.53</td>\n",
       "      <td>10354.65</td>\n",
       "      <td>240.28</td>\n",
       "      <td>2016</td>\n",
       "    </tr>\n",
       "    <tr>\n",
       "      <th>11</th>\n",
       "      <td>1.51</td>\n",
       "      <td>178235.75</td>\n",
       "      <td>43325.87</td>\n",
       "      <td>52189.61</td>\n",
       "      <td>19419.57</td>\n",
       "      <td>63300.70</td>\n",
       "      <td>54704.14</td>\n",
       "      <td>8596.56</td>\n",
       "      <td>0.00</td>\n",
       "      <td>2016</td>\n",
       "    </tr>\n",
       "    <tr>\n",
       "      <th>12</th>\n",
       "      <td>1.48</td>\n",
       "      <td>178410.82</td>\n",
       "      <td>46364.75</td>\n",
       "      <td>52893.38</td>\n",
       "      <td>16736.92</td>\n",
       "      <td>62415.77</td>\n",
       "      <td>53332.61</td>\n",
       "      <td>8258.16</td>\n",
       "      <td>825.00</td>\n",
       "      <td>2016</td>\n",
       "    </tr>\n",
       "    <tr>\n",
       "      <th>13</th>\n",
       "      <td>1.47</td>\n",
       "      <td>189131.52</td>\n",
       "      <td>54110.79</td>\n",
       "      <td>53593.58</td>\n",
       "      <td>17495.42</td>\n",
       "      <td>63931.73</td>\n",
       "      <td>55653.47</td>\n",
       "      <td>8278.26</td>\n",
       "      <td>0.00</td>\n",
       "      <td>2016</td>\n",
       "    </tr>\n",
       "    <tr>\n",
       "      <th>14</th>\n",
       "      <td>1.43</td>\n",
       "      <td>182978.30</td>\n",
       "      <td>43116.41</td>\n",
       "      <td>54193.42</td>\n",
       "      <td>16563.91</td>\n",
       "      <td>69104.56</td>\n",
       "      <td>57456.21</td>\n",
       "      <td>11648.35</td>\n",
       "      <td>0.00</td>\n",
       "      <td>2016</td>\n",
       "    </tr>\n",
       "  </tbody>\n",
       "</table>\n",
       "<p>1517 rows × 10 columns</p>\n",
       "</div>"
      ],
      "text/plain": [
       "    AveragePrice  Total Volume      4046       4225      4770  Total Bags  \\\n",
       "0           1.33      64236.62   1036.74   54454.85     48.16     8696.87   \n",
       "1           1.35      54876.98    674.28   44638.81     58.33     9505.56   \n",
       "2           0.93     118220.22    794.70  109149.67    130.50     8145.35   \n",
       "3           1.08      78992.15   1132.00   71976.41     72.58     5811.16   \n",
       "4           1.28      51039.60    941.48   43838.39     75.78     6183.95   \n",
       "..           ...           ...       ...        ...       ...         ...   \n",
       "10          1.39     190846.01  57529.11   56366.66  17531.78    59418.46   \n",
       "11          1.51     178235.75  43325.87   52189.61  19419.57    63300.70   \n",
       "12          1.48     178410.82  46364.75   52893.38  16736.92    62415.77   \n",
       "13          1.47     189131.52  54110.79   53593.58  17495.42    63931.73   \n",
       "14          1.43     182978.30  43116.41   54193.42  16563.91    69104.56   \n",
       "\n",
       "    Small Bags  Large Bags  XLarge Bags  year  \n",
       "0      8603.62       93.25         0.00  2015  \n",
       "1      9408.07       97.49         0.00  2015  \n",
       "2      8042.21      103.14         0.00  2015  \n",
       "3      5677.40      133.76         0.00  2015  \n",
       "4      5986.26      197.69         0.00  2015  \n",
       "..         ...         ...          ...   ...  \n",
       "10    48823.53    10354.65       240.28  2016  \n",
       "11    54704.14     8596.56         0.00  2016  \n",
       "12    53332.61     8258.16       825.00  2016  \n",
       "13    55653.47     8278.26         0.00  2016  \n",
       "14    57456.21    11648.35         0.00  2016  \n",
       "\n",
       "[1517 rows x 10 columns]"
      ]
     },
     "execution_count": 336,
     "metadata": {},
     "output_type": "execute_result"
    }
   ],
   "source": [
    "x_r"
   ]
  },
  {
   "cell_type": "code",
   "execution_count": 337,
   "metadata": {},
   "outputs": [
    {
     "data": {
      "text/html": [
       "<div>\n",
       "<style scoped>\n",
       "    .dataframe tbody tr th:only-of-type {\n",
       "        vertical-align: middle;\n",
       "    }\n",
       "\n",
       "    .dataframe tbody tr th {\n",
       "        vertical-align: top;\n",
       "    }\n",
       "\n",
       "    .dataframe thead th {\n",
       "        text-align: right;\n",
       "    }\n",
       "</style>\n",
       "<table border=\"1\" class=\"dataframe\">\n",
       "  <thead>\n",
       "    <tr style=\"text-align: right;\">\n",
       "      <th></th>\n",
       "      <th>region</th>\n",
       "    </tr>\n",
       "  </thead>\n",
       "  <tbody>\n",
       "    <tr>\n",
       "      <th>0</th>\n",
       "      <td>0</td>\n",
       "    </tr>\n",
       "    <tr>\n",
       "      <th>1</th>\n",
       "      <td>0</td>\n",
       "    </tr>\n",
       "    <tr>\n",
       "      <th>2</th>\n",
       "      <td>0</td>\n",
       "    </tr>\n",
       "    <tr>\n",
       "      <th>3</th>\n",
       "      <td>0</td>\n",
       "    </tr>\n",
       "    <tr>\n",
       "      <th>4</th>\n",
       "      <td>0</td>\n",
       "    </tr>\n",
       "    <tr>\n",
       "      <th>...</th>\n",
       "      <td>...</td>\n",
       "    </tr>\n",
       "    <tr>\n",
       "      <th>10</th>\n",
       "      <td>7</td>\n",
       "    </tr>\n",
       "    <tr>\n",
       "      <th>11</th>\n",
       "      <td>7</td>\n",
       "    </tr>\n",
       "    <tr>\n",
       "      <th>12</th>\n",
       "      <td>7</td>\n",
       "    </tr>\n",
       "    <tr>\n",
       "      <th>13</th>\n",
       "      <td>7</td>\n",
       "    </tr>\n",
       "    <tr>\n",
       "      <th>14</th>\n",
       "      <td>7</td>\n",
       "    </tr>\n",
       "  </tbody>\n",
       "</table>\n",
       "<p>1517 rows × 1 columns</p>\n",
       "</div>"
      ],
      "text/plain": [
       "    region\n",
       "0        0\n",
       "1        0\n",
       "2        0\n",
       "3        0\n",
       "4        0\n",
       "..     ...\n",
       "10       7\n",
       "11       7\n",
       "12       7\n",
       "13       7\n",
       "14       7\n",
       "\n",
       "[1517 rows x 1 columns]"
      ]
     },
     "execution_count": 337,
     "metadata": {},
     "output_type": "execute_result"
    }
   ],
   "source": [
    "y_r"
   ]
  },
  {
   "cell_type": "code",
   "execution_count": 342,
   "metadata": {},
   "outputs": [
    {
     "name": "stdout",
     "output_type": "stream",
     "text": [
      "accuracy score correspond to random state 0 is 0.8\n",
      "accuracy score correspond to random state 0 is 0.8447368421052631\n",
      "accuracy score correspond to random state 1 is 0.8026315789473685\n",
      "accuracy score correspond to random state 1 is 0.868421052631579\n",
      "accuracy score correspond to random state 2 is 0.8263157894736842\n",
      "accuracy score correspond to random state 2 is 0.8789473684210526\n",
      "accuracy score correspond to random state 3 is 0.7657894736842106\n",
      "accuracy score correspond to random state 3 is 0.8947368421052632\n",
      "accuracy score correspond to random state 4 is 0.8315789473684211\n",
      "accuracy score correspond to random state 4 is 0.8447368421052631\n",
      "accuracy score correspond to random state 5 is 0.781578947368421\n",
      "accuracy score correspond to random state 5 is 0.8842105263157894\n",
      "accuracy score correspond to random state 6 is 0.8157894736842105\n",
      "accuracy score correspond to random state 6 is 0.8526315789473684\n",
      "accuracy score correspond to random state 7 is 0.7947368421052632\n",
      "accuracy score correspond to random state 7 is 0.8763157894736842\n",
      "accuracy score correspond to random state 8 is 0.8026315789473685\n",
      "accuracy score correspond to random state 8 is 0.8842105263157894\n",
      "accuracy score correspond to random state 9 is 0.8421052631578947\n",
      "accuracy score correspond to random state 9 is 0.8473684210526315\n",
      "accuracy score correspond to random state 10 is 0.8368421052631579\n",
      "accuracy score correspond to random state 10 is 0.8631578947368421\n",
      "accuracy score correspond to random state 11 is 0.8\n",
      "accuracy score correspond to random state 11 is 0.9078947368421053\n",
      "accuracy score correspond to random state 12 is 0.8184210526315789\n",
      "accuracy score correspond to random state 12 is 0.868421052631579\n",
      "accuracy score correspond to random state 13 is 0.8263157894736842\n",
      "accuracy score correspond to random state 13 is 0.9052631578947369\n",
      "accuracy score correspond to random state 14 is 0.7789473684210526\n",
      "accuracy score correspond to random state 14 is 0.8473684210526315\n",
      "accuracy score correspond to random state 15 is 0.8263157894736842\n",
      "accuracy score correspond to random state 15 is 0.8842105263157894\n",
      "accuracy score correspond to random state 16 is 0.8052631578947368\n",
      "accuracy score correspond to random state 16 is 0.881578947368421\n",
      "accuracy score correspond to random state 17 is 0.8368421052631579\n",
      "accuracy score correspond to random state 17 is 0.8894736842105263\n",
      "accuracy score correspond to random state 18 is 0.8263157894736842\n",
      "accuracy score correspond to random state 18 is 0.8342105263157895\n",
      "accuracy score correspond to random state 19 is 0.8184210526315789\n",
      "accuracy score correspond to random state 19 is 0.8710526315789474\n",
      "accuracy score correspond to random state 20 is 0.8368421052631579\n",
      "accuracy score correspond to random state 20 is 0.8605263157894737\n",
      "accuracy score correspond to random state 21 is 0.8236842105263158\n",
      "accuracy score correspond to random state 21 is 0.8710526315789474\n",
      "accuracy score correspond to random state 22 is 0.7973684210526316\n",
      "accuracy score correspond to random state 22 is 0.8368421052631579\n",
      "accuracy score correspond to random state 23 is 0.8447368421052631\n",
      "accuracy score correspond to random state 23 is 0.8868421052631579\n",
      "accuracy score correspond to random state 24 is 0.8026315789473685\n",
      "accuracy score correspond to random state 24 is 0.8868421052631579\n",
      "accuracy score correspond to random state 25 is 0.8263157894736842\n",
      "accuracy score correspond to random state 25 is 0.8526315789473684\n",
      "accuracy score correspond to random state 26 is 0.8105263157894737\n",
      "accuracy score correspond to random state 26 is 0.881578947368421\n",
      "accuracy score correspond to random state 27 is 0.8184210526315789\n",
      "accuracy score correspond to random state 27 is 0.8921052631578947\n",
      "accuracy score correspond to random state 28 is 0.7973684210526316\n",
      "accuracy score correspond to random state 28 is 0.8736842105263158\n",
      "accuracy score correspond to random state 29 is 0.8236842105263158\n",
      "accuracy score correspond to random state 29 is 0.8631578947368421\n",
      "accuracy score correspond to random state 30 is 0.8289473684210527\n",
      "accuracy score correspond to random state 30 is 0.8552631578947368\n",
      "accuracy score correspond to random state 31 is 0.8315789473684211\n",
      "accuracy score correspond to random state 31 is 0.8552631578947368\n",
      "accuracy score correspond to random state 32 is 0.8\n",
      "accuracy score correspond to random state 32 is 0.8868421052631579\n",
      "accuracy score correspond to random state 33 is 0.8026315789473685\n",
      "accuracy score correspond to random state 33 is 0.8578947368421053\n",
      "accuracy score correspond to random state 34 is 0.8368421052631579\n",
      "accuracy score correspond to random state 34 is 0.8631578947368421\n",
      "accuracy score correspond to random state 35 is 0.8210526315789474\n",
      "accuracy score correspond to random state 35 is 0.8763157894736842\n",
      "accuracy score correspond to random state 36 is 0.7973684210526316\n",
      "accuracy score correspond to random state 36 is 0.8526315789473684\n",
      "accuracy score correspond to random state 37 is 0.8052631578947368\n",
      "accuracy score correspond to random state 37 is 0.8605263157894737\n",
      "accuracy score correspond to random state 38 is 0.7973684210526316\n",
      "accuracy score correspond to random state 38 is 0.8947368421052632\n",
      "accuracy score correspond to random state 39 is 0.8263157894736842\n",
      "accuracy score correspond to random state 39 is 0.8842105263157894\n",
      "\n",
      "\n",
      "max accuracy score corresponding to random state  11 is 0.9078947368421053 and model is DecisionTreeClassifier()\n"
     ]
    }
   ],
   "source": [
    "model=[KNeighborsClassifier(),DecisionTreeClassifier()]\n",
    "max_accuracy_score=0\n",
    "for r_state in range(0,40):\n",
    "    train_x_r,test_x_r,train_y_r,test_y_r=train_test_split(x_r,y_r,random_state=r_state,test_size=0.25)\n",
    "    for i_r in model:\n",
    "        i_r.fit(train_x_r,train_y_r)\n",
    "        pre_r=i_r.predict(test_x_r)\n",
    "        ac_score=accuracy_score(test_y_r,pre_r)\n",
    "        print(\"accuracy score correspond to random state\",r_state,'is',ac_score)\n",
    "        if ac_score>max_accuracy_score:\n",
    "            max_accuracy_score=ac_score\n",
    "            final_state=r_state\n",
    "            final_model=i_r\n",
    "print()\n",
    "print()\n",
    "print(\"max accuracy score corresponding to random state \",final_state,'is',max_accuracy_score,'and model is',final_model)\n",
    "    "
   ]
  },
  {
   "cell_type": "code",
   "execution_count": 386,
   "metadata": {},
   "outputs": [
    {
     "data": {
      "text/plain": [
       "{'max_leaf_nodes': 9, 'min_samples_split': 2}"
      ]
     },
     "execution_count": 386,
     "metadata": {},
     "output_type": "execute_result"
    }
   ],
   "source": [
    "# grid search cv for decision tree classiffier\n",
    "from sklearn.model_selection import GridSearchCV\n",
    "params = {'max_leaf_nodes': list(range(0, 10)), 'min_samples_split': [2, 3, 4]}\n",
    "grid_search_cv = GridSearchCV(DecisionTreeClassifier(random_state=42), params, cv=5)\n",
    "grid_search_cv.fit(train_x_r,train_y_r)\n",
    "grid_search_cv.best_params_\n"
   ]
  },
  {
   "cell_type": "code",
   "execution_count": 388,
   "metadata": {},
   "outputs": [
    {
     "name": "stdout",
     "output_type": "stream",
     "text": [
      "Accuracy score is :  89.47368421052632\n"
     ]
    }
   ],
   "source": [
    "dtc=DecisionTreeClassifier()\n",
    "dtc.fit(train_x_r,train_y_r)\n",
    "pred_r=dtc.predict(test_x_r)\n",
    "ar_score=accuracy_score(test_y_r,pred_r)\n",
    "print(\"Accuracy score is : \",ar_score*100)"
   ]
  },
  {
   "cell_type": "code",
   "execution_count": 390,
   "metadata": {},
   "outputs": [
    {
     "name": "stdout",
     "output_type": "stream",
     "text": [
      "Accuracy score is :  86.8421052631579\n"
     ]
    }
   ],
   "source": [
    "\n",
    "\n",
    "dtc=DecisionTreeClassifier(max_leaf_nodes=86,min_samples_split=4)\n",
    "dtc.fit(train_x_r,train_y_r)\n",
    "pred_r=dtc.predict(test_x_r)\n",
    "ar_score=accuracy_score(test_y_r,pred_r)\n",
    "print(\"Accuracy score is : \",ar_score*100)\n",
    "\n"
   ]
  },
  {
   "cell_type": "code",
   "execution_count": 391,
   "metadata": {},
   "outputs": [
    {
     "name": "stdout",
     "output_type": "stream",
     "text": [
      "cross val score : 83.18752178459393\n",
      "mean score 83.18752178459393\n"
     ]
    }
   ],
   "source": [
    "# without hyper unig the model is working more efficient \n",
    "score=cross_val_score(dtc,x_r,y_r,cv=10).mean()\n",
    "print(\"cross val score :\",score*100)\n",
    "print(\"mean score\",score.mean()*100)\n"
   ]
  },
  {
   "cell_type": "code",
   "execution_count": 392,
   "metadata": {},
   "outputs": [
    {
     "data": {
      "text/plain": [
       "array([24, 42,  5,  3,  1, 27, 42,  6, 28, 15, 39,  5,  5, 24, 31, 45, 26,\n",
       "       39, 46, 19, 41, 50,  3, 22, 10, 19, 19, 47, 37, 29,  3, 23, 14, 22,\n",
       "       41,  0,  5, 33, 10, 35, 30, 18,  0, 46,  3,  0, 34, 14,  4, 26, 17,\n",
       "       12,  8, 12, 49,  4, 16,  5, 32, 47, 34, 28, 50,  6, 49, 47, 35,  5,\n",
       "       18, 38,  4, 30, 26,  2, 19, 42,  1,  1, 31,  6,  2,  3, 24, 28, 35,\n",
       "       19,  3, 38,  3, 47,  2, 23, 11,  4,  0, 31, 12,  3,  8,  1,  5, 50,\n",
       "       50,  5,  6,  2,  3,  2, 19, 26,  6,  0,  2, 47,  7,  1,  0, 45, 50,\n",
       "       22, 10,  0, 37, 20,  2,  1, 11, 44, 11, 28, 42, 39, 50, 39, 17, 32,\n",
       "       41,  6, 29,  7, 17, 42,  7, 11, 26, 26,  3,  9,  5, 47, 26, 14, 14,\n",
       "       12, 31,  9,  8, 10,  0,  6,  5,  1, 31, 44,  8, 19,  8, 12, 16,  5,\n",
       "       19,  7,  4, 32, 26, 41, 19, 43,  1, 49,  6, 25,  0, 22,  0, 25, 17,\n",
       "       13,  3, 47, 35,  2, 37, 33,  3, 15, 22, 42,  3,  5, 30,  1,  2, 19,\n",
       "       44, 26, 26, 12,  4,  6, 33, 49, 31,  2, 46, 48, 50, 28, 38,  2,  4,\n",
       "        9, 49, 13, 29, 13, 42,  8, 24, 14, 43,  3,  3, 35, 26, 23, 19,  2,\n",
       "       23,  6, 12,  4,  4, 40,  6, 38,  4,  1,  4, 18, 26, 29, 22, 47, 23,\n",
       "       31, 10,  6,  9, 15, 30, 17, 28, 25, 44,  6, 29, 22, 47, 42, 22, 33,\n",
       "       47, 12,  8,  3, 12,  6,  5, 38,  0,  6, 13, 17, 31, 37, 22,  6, 49,\n",
       "        4, 49, 39,  6, 19,  9, 47, 31,  0, 30, 30, 17,  7,  0,  9,  3, 31,\n",
       "        8, 28, 44, 33, 35, 41,  0,  1,  9, 22, 27, 12, 33, 36, 12,  0,  3,\n",
       "       13, 41,  2, 44, 44, 10,  2,  0, 42,  6, 50, 10,  1, 11, 45, 10, 42,\n",
       "        6, 47,  4,  9,  4, 14, 16, 38,  6,  3, 45,  7, 31, 49, 15, 49,  6,\n",
       "       30,  0, 40, 44, 28, 24, 12,  6, 34, 11,  0, 49, 16, 34, 25, 47,  5,\n",
       "        2,  1, 36, 38, 17,  3])"
      ]
     },
     "execution_count": 392,
     "metadata": {},
     "output_type": "execute_result"
    }
   ],
   "source": [
    "pred_r"
   ]
  },
  {
   "cell_type": "code",
   "execution_count": 393,
   "metadata": {},
   "outputs": [],
   "source": [
    "# from the above all decison tree classiier is working best for classification problem \n",
    "import joblib"
   ]
  },
  {
   "cell_type": "code",
   "execution_count": 394,
   "metadata": {},
   "outputs": [
    {
     "data": {
      "text/plain": [
       "['Avacdo region.ipynb ']"
      ]
     },
     "execution_count": 394,
     "metadata": {},
     "output_type": "execute_result"
    }
   ],
   "source": [
    "joblib.dump(dtc,\"Avacdo region.ipynb \")"
   ]
  },
  {
   "cell_type": "code",
   "execution_count": null,
   "metadata": {},
   "outputs": [],
   "source": []
  }
 ],
 "metadata": {
  "kernelspec": {
   "display_name": "Python 3",
   "language": "python",
   "name": "python3"
  },
  "language_info": {
   "codemirror_mode": {
    "name": "ipython",
    "version": 3
   },
   "file_extension": ".py",
   "mimetype": "text/x-python",
   "name": "python",
   "nbconvert_exporter": "python",
   "pygments_lexer": "ipython3",
   "version": "3.8.3"
  }
 },
 "nbformat": 4,
 "nbformat_minor": 4
}
